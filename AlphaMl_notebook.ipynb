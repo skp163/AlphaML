{
  "cells": [
    {
      "cell_type": "code",
      "execution_count": null,
      "metadata": {
        "colab": {
          "base_uri": "https://localhost:8080/"
        },
        "id": "XllFz5AUKAOS",
        "outputId": "e9d70aac-f30f-4557-af89-ca5afbcae8cc"
      },
      "outputs": [
        {
          "name": "stdout",
          "output_type": "stream",
          "text": [
            "3\n"
          ]
        }
      ],
      "source": [
        "a= 1\n",
        "b = 2\n",
        "c = (a+b)\n",
        "print(c)"
      ]
    },
    {
      "cell_type": "code",
      "execution_count": null,
      "metadata": {
        "colab": {
          "base_uri": "https://localhost:8080/"
        },
        "id": "-JzF7ZEXKZBu",
        "outputId": "d1b4b6ad-a6cb-45de-e51f-0bb97df2a4a8"
      },
      "outputs": [
        {
          "name": "stdout",
          "output_type": "stream",
          "text": [
            "[1, 2, 5, 4]\n"
          ]
        }
      ],
      "source": [
        "ab = [1,2,3,4]\n",
        "type(ab)\n",
        "ab[2] = 5\n",
        "print(ab)"
      ]
    },
    {
      "cell_type": "markdown",
      "metadata": {
        "id": "Q3TrzQ1IKS5C"
      },
      "source": [
        "###Day 2"
      ]
    },
    {
      "cell_type": "code",
      "execution_count": null,
      "metadata": {
        "colab": {
          "base_uri": "https://localhost:8080/"
        },
        "id": "8PRo1qOnKVIy",
        "outputId": "9b5bfc2e-cb2b-41d3-bfda-f3fa09d17ac1"
      },
      "outputs": [
        {
          "name": "stdout",
          "output_type": "stream",
          "text": [
            "3.0\n"
          ]
        }
      ],
      "source": [
        "a= 6\n",
        "b = 2\n",
        "c = a/b\n",
        "print(c)"
      ]
    },
    {
      "cell_type": "code",
      "execution_count": null,
      "metadata": {
        "colab": {
          "base_uri": "https://localhost:8080/"
        },
        "id": "VeHE9ToXKdO8",
        "outputId": "94734d2c-5b5e-4928-d72a-7b1b9d2830b4"
      },
      "outputs": [
        {
          "name": "stdout",
          "output_type": "stream",
          "text": [
            "3.0\n"
          ]
        }
      ],
      "source": [
        "oprerator = 'division'\n",
        "if(oprerator == 'addition'):\n",
        "  print(a+b)\n",
        "elif(oprerator == 'Sub'):\n",
        "  print(a-b)\n",
        "elif(oprerator == 'division'):\n",
        "  print(a/b)\n",
        "else:\n",
        "  print(\"Invalid\")"
      ]
    },
    {
      "cell_type": "markdown",
      "metadata": {
        "id": "y8LFEDXLRLuB"
      },
      "source": [
        "###Day:3\n",
        "TypeCasting\n"
      ]
    },
    {
      "cell_type": "code",
      "execution_count": null,
      "metadata": {
        "colab": {
          "base_uri": "https://localhost:8080/"
        },
        "id": "uFgFynhBRPbZ",
        "outputId": "d7135cd0-f2ee-4315-f1b7-f08685244e97"
      },
      "outputs": [
        {
          "data": {
            "text/plain": [
              "str"
            ]
          },
          "execution_count": 4,
          "metadata": {},
          "output_type": "execute_result"
        }
      ],
      "source": [
        "type(a)\n",
        "\n",
        "#Typecasting : Changing the data type of a variable with out replacing the value.\n",
        "ab = 3\n",
        "ab = str(3)\n",
        "type(ab)"
      ]
    },
    {
      "cell_type": "markdown",
      "metadata": {
        "id": "2SU8ovcoTRUk"
      },
      "source": [
        "Looping"
      ]
    },
    {
      "cell_type": "code",
      "execution_count": null,
      "metadata": {
        "colab": {
          "base_uri": "https://localhost:8080/"
        },
        "id": "Tx_fX3ftTS78",
        "outputId": "701d3b03-4b26-4d5e-a2f3-118e36c99e79"
      },
      "outputs": [
        {
          "name": "stdout",
          "output_type": "stream",
          "text": [
            "5\n",
            "6\n",
            "7\n",
            "8\n",
            "9\n",
            "10\n",
            "11\n",
            "12\n",
            "13\n",
            "14\n",
            "15\n",
            "16\n",
            "17\n",
            "18\n",
            "19\n",
            "20\n",
            "21\n",
            "22\n",
            "23\n",
            "24\n",
            "25\n",
            "26\n",
            "27\n",
            "28\n",
            "29\n",
            "30\n",
            "31\n",
            "32\n",
            "33\n",
            "34\n",
            "35\n",
            "36\n",
            "37\n",
            "38\n",
            "39\n",
            "40\n",
            "41\n",
            "42\n",
            "43\n",
            "44\n",
            "45\n",
            "46\n",
            "47\n",
            "48\n",
            "49\n",
            "50\n",
            "51\n",
            "52\n",
            "53\n",
            "54\n",
            "55\n",
            "56\n",
            "57\n",
            "58\n",
            "59\n",
            "60\n",
            "61\n",
            "62\n",
            "63\n",
            "64\n",
            "65\n",
            "66\n",
            "67\n",
            "68\n",
            "69\n",
            "70\n",
            "71\n",
            "72\n",
            "73\n",
            "74\n",
            "75\n",
            "76\n",
            "77\n",
            "78\n",
            "79\n",
            "80\n",
            "81\n",
            "82\n",
            "83\n",
            "84\n",
            "85\n",
            "86\n",
            "87\n",
            "88\n",
            "89\n",
            "90\n",
            "91\n",
            "92\n",
            "93\n",
            "94\n",
            "95\n",
            "96\n",
            "97\n",
            "98\n",
            "99\n"
          ]
        }
      ],
      "source": [
        "#Print all the numbers from 5 to 10\n",
        "for i in range(5,100):\n",
        "  print(i)"
      ]
    },
    {
      "cell_type": "code",
      "execution_count": null,
      "metadata": {
        "colab": {
          "base_uri": "https://localhost:8080/"
        },
        "id": "fizOBlUdWxnW",
        "outputId": "61eb7ad5-9497-441e-993a-7780c00cddf1"
      },
      "outputs": [
        {
          "name": "stdout",
          "output_type": "stream",
          "text": [
            "Sunil\n",
            "Spineac\n",
            "google\n",
            "hi\n",
            "how are\n"
          ]
        }
      ],
      "source": [
        "# input a URL 5 times\n",
        "for i in range(5):\n",
        "  url = input()"
      ]
    },
    {
      "cell_type": "code",
      "execution_count": null,
      "metadata": {
        "colab": {
          "base_uri": "https://localhost:8080/"
        },
        "id": "j5C2DbKAX6HN",
        "outputId": "6364f024-c211-4fff-bc2e-26a1a247a1f7"
      },
      "outputs": [
        {
          "name": "stdout",
          "output_type": "stream",
          "text": [
            "Enter the URL: google.com\n",
            "iteration no :  1 is 1\n",
            "Enter the URL: sunil\n",
            "iteration no :  2 is 1\n",
            "Enter the URL: google.com\n",
            "iteration no :  3 is 2\n",
            "Enter the URL: google.com\n",
            "iteration no :  4 is 3\n",
            "Enter the URL: spineac.com\n",
            "iteration no :  5 is 3\n",
            "Google.com visited  3\n"
          ]
        }
      ],
      "source": [
        "# Print how many times google.com visited with itreation.\n",
        "count = 0\n",
        "for i in range(5):\n",
        "  url = input(\"Enter the URL: \")\n",
        "  if(url == 'google.com'):\n",
        "    count = count + 1\n",
        "  print(\"iteration no : \", i+1, \"is\", count)\n",
        "print(\"Google.com visited \",count)"
      ]
    },
    {
      "cell_type": "code",
      "execution_count": null,
      "metadata": {
        "colab": {
          "base_uri": "https://localhost:8080/"
        },
        "id": "GMM5soEHbu5e",
        "outputId": "59bdecf5-84dc-4178-9c5e-f138fb23b76c"
      },
      "outputs": [
        {
          "name": "stdout",
          "output_type": "stream",
          "text": [
            "Enter the URL: google.com\n",
            "iteration no :  1 is 1\n",
            "Enter the URL: sunil.com\n",
            "Enter the URL: google.com\n",
            "iteration no :  3 is 2\n",
            "Enter the URL: google.com\n",
            "iteration no :  4 is 3\n",
            "Enter the URL: sunil.com\n",
            "Google.com visited  3\n"
          ]
        }
      ],
      "source": [
        "# print iteration if only google.com visited\n",
        "count = 0\n",
        "for i in range(5):\n",
        "  url = input(\"Enter the URL: \")\n",
        "  if(url == 'google.com'):\n",
        "    count = count + 1\n",
        "    print(\"iteration no : \", i+1, \"is\", count)\n",
        "print(\"Google.com visited \",count)"
      ]
    },
    {
      "cell_type": "markdown",
      "metadata": {
        "id": "gG2YF3MC5KiH"
      },
      "source": [
        "###Day4 : Quiz"
      ]
    },
    {
      "cell_type": "code",
      "execution_count": null,
      "metadata": {},
      "outputs": [],
      "source": [
        "''' \n",
        "Q1 : Can you swap A & B\n",
        "\n",
        "Initial:\n",
        "A = 5\n",
        "B = 3\n",
        "\n",
        "End:\n",
        "A = 3\n",
        "B = 5\n",
        "'''\n",
        "\n",
        "A = 5\n",
        "B = 3\n",
        "\n",
        "print('new values:',A,B)\n",
        "\n",
        "temp = A #Created a duplicate of A = 5\n",
        "A = B #A now has B's value  | A = 3, B = 3\n",
        "B = temp #final step\n",
        "\n",
        "print('New values:', A,B)\n"
      ]
    },
    {
      "cell_type": "code",
      "execution_count": 1,
      "metadata": {
        "colab": {
          "base_uri": "https://localhost:8080/"
        },
        "id": "vG3rN7X05HmK",
        "outputId": "6a08a27c-c142-4364-8adb-bdfdb22071ab"
      },
      "outputs": [
        {
          "name": "stdout",
          "output_type": "stream",
          "text": [
            "25\n"
          ]
        }
      ],
      "source": [
        "#The user will give you 5 integers as an input. Use the input() function to capture it and write python code print the resultant sum.\n",
        "#Not correct\n",
        "sum = 0\n",
        "for i in range(5):\n",
        "  intr = int(input(\"Enter an Integer: \"))\n",
        "  sum = sum + intr\n",
        "\n",
        "print(sum)"
      ]
    },
    {
      "cell_type": "code",
      "execution_count": null,
      "metadata": {
        "colab": {
          "base_uri": "https://localhost:8080/"
        },
        "id": "se6L3n4z5M8t",
        "outputId": "05b8f9f3-46d6-4e16-9169-2e775df57d21"
      },
      "outputs": [
        {
          "name": "stdout",
          "output_type": "stream",
          "text": [
            "1\n",
            "2\n",
            "3\n",
            "4\n"
          ]
        }
      ],
      "source": [
        "for i in range(1,5):\n",
        "  print(i)"
      ]
    },
    {
      "cell_type": "markdown",
      "metadata": {
        "id": "jHEFC_Oa861x"
      },
      "source": [
        "Day 5: Find and Replace"
      ]
    },
    {
      "cell_type": "code",
      "execution_count": null,
      "metadata": {
        "colab": {
          "base_uri": "https://localhost:8080/"
        },
        "id": "yYY6gqlD-4Lj",
        "outputId": "7b314ec5-bed6-4fdb-aa6f-52e8e6f33a56"
      },
      "outputs": [
        {
          "name": "stdout",
          "output_type": "stream",
          "text": [
            "27\n"
          ]
        }
      ],
      "source": [
        "# Find the number of charecter 'a' exists in the below para.\n",
        "para = '''\n",
        "Wikis are enabled by wiki software, otherwise known as wiki engines. A wiki engine, being a form of a content management system, differs from other web-based systems such as blog software, in that the content is created without any defined owner or leader, and wikis have little inherent structure, allowing structure to emerge according to the needs of the users.[1] Wiki engines usually allow content to be written using a simplified markup language and sometimes edited with the help of a rich-text editor.\n",
        "'''\n",
        "count =0\n",
        "for p in range(len(para)):\n",
        "  i_num = para[p]\n",
        "  if(i_num=='a'):\n",
        "    count = count+1\n",
        "print(count)"
      ]
    },
    {
      "cell_type": "code",
      "execution_count": null,
      "metadata": {
        "colab": {
          "base_uri": "https://localhost:8080/"
        },
        "id": "lJEdgwSuBjgY",
        "outputId": "bfc84fde-ce5d-47c4-c0e7-d100692a22d8"
      },
      "outputs": [
        {
          "name": "stdout",
          "output_type": "stream",
          "text": [
            "\n",
            "Wikis $re en$bled by wiki softw$re, otherwise known $s wiki engines. A wiki engine, being $ form of $ content m$n$gement system, differs from other web-b$sed systems such $s blog softw$re, in th$t the content is cre$ted without $ny defined owner or le$der, $nd wikis h$ve little inherent structure, $llowing structure to emerge $ccording to the needs of the users.[1] Wiki engines usu$lly $llow content to be written using $ simplified m$rkup l$ngu$ge $nd sometimes edited with the help of $ rich-text editor.\n",
            "\n"
          ]
        }
      ],
      "source": [
        "# Find the charecter 'a' and replace with $ in the below para.\n",
        "para = '''\n",
        "Wikis are enabled by wiki software, otherwise known as wiki engines. A wiki engine, being a form of a content management system, differs from other web-based systems such as blog software, in that the content is created without any defined owner or leader, and wikis have little inherent structure, allowing structure to emerge according to the needs of the users.[1] Wiki engines usually allow content to be written using a simplified markup language and sometimes edited with the help of a rich-text editor.\n",
        "'''\n",
        "new_string = \"\"\n",
        "for p in range(len(para)):\n",
        "  i_num = para[p]\n",
        "  if(i_num=='a'):\n",
        "    new_string = new_string + \"$\"\n",
        "  else:\n",
        "    new_string = new_string + i_num\n",
        "print(new_string)"
      ]
    },
    {
      "cell_type": "markdown",
      "metadata": {
        "id": "EAWelBQexGtw"
      },
      "source": [
        "###User Defined Functions"
      ]
    },
    {
      "cell_type": "code",
      "execution_count": null,
      "metadata": {
        "id": "soD0LBhUxD1I"
      },
      "outputs": [],
      "source": [
        "# Create a calculator function with add, sub, multi, division functionalities.\n",
        "#return function stores the output somewhere. Insted of print we can use return.\n",
        "# Bulit in functions - print(), type()\n"
      ]
    },
    {
      "cell_type": "code",
      "execution_count": null,
      "metadata": {
        "colab": {
          "base_uri": "https://localhost:8080/"
        },
        "id": "gdNc_fLRxkrs",
        "outputId": "1e7d14b1-fcd8-4163-cce6-a0c8f63ada33"
      },
      "outputs": [
        {
          "data": {
            "text/plain": [
              "12"
            ]
          },
          "execution_count": 8,
          "metadata": {},
          "output_type": "execute_result"
        }
      ],
      "source": [
        "input1 = 6\n",
        "input2 = 2\n",
        "operator = 'add'\n",
        "\n",
        "def calculator(input1,input2,operator):\n",
        "\n",
        "  if(operator == 'add'):\n",
        "    result = input1 + input2\n",
        "  elif(operator == 'sub'):\n",
        "    result = input1 - input2\n",
        "  elif(operator == 'mul'):\n",
        "    result = input1 * input2\n",
        "  elif(operator == 'div'):\n",
        "    result = input1 / input2\n",
        "  else:\n",
        "    result = -9999999999\n",
        "    print(\"invalid result\")\n",
        "  #print(result)\n",
        "  return(result)\n",
        "\n",
        "calculator(10,2,'add')\n",
        "var1 = calculator(10,2,'add')"
      ]
    },
    {
      "cell_type": "markdown",
      "metadata": {
        "id": "pCvLoFlC1HDx"
      },
      "source": [
        "###Module and Packages"
      ]
    },
    {
      "cell_type": "markdown",
      "metadata": {
        "id": "dCjdRutk1uli"
      },
      "source": [
        "Modules are .py files.\n",
        "Can have multiple functions with in it.\n",
        "collection of functions.\n",
        "We can write in different styles.\n",
        "use wuth import"
      ]
    },
    {
      "cell_type": "code",
      "execution_count": null,
      "metadata": {
        "colab": {
          "base_uri": "https://localhost:8080/"
        },
        "id": "Y6U2yptZ25yu",
        "outputId": "c7260b11-397d-4e59-ff93-1fd1e391b71d"
      },
      "outputs": [
        {
          "name": "stdout",
          "output_type": "stream",
          "text": [
            "3.4641016151377544\n",
            "3.4641016151377544\n",
            "3.4641016151377544\n"
          ]
        }
      ],
      "source": [
        "#style 1\n",
        "import math\n",
        "print(math.sqrt(12))\n",
        "\n",
        "#Style 2\n",
        "from math import sqrt\n",
        "print(sqrt(12))\n",
        "\n",
        "#Style 3 - allias\n",
        "import math as m\n",
        "print(m.sqrt(12))\n"
      ]
    },
    {
      "cell_type": "markdown",
      "metadata": {
        "id": "fCqvRjpw3s63"
      },
      "source": [
        "##Packages\n",
        "collection of modules"
      ]
    },
    {
      "cell_type": "code",
      "execution_count": null,
      "metadata": {
        "colab": {
          "base_uri": "https://localhost:8080/",
          "height": 357
        },
        "id": "2GV2X8gE4JfW",
        "outputId": "4ecceb74-c7b3-4a41-c1ab-9e1c20ae146c"
      },
      "outputs": [
        {
          "ename": "ImportError",
          "evalue": "ignored",
          "output_type": "error",
          "traceback": [
            "\u001b[0;31m---------------------------------------------------------------------------\u001b[0m",
            "\u001b[0;31mImportError\u001b[0m                               Traceback (most recent call last)",
            "\u001b[0;32m<ipython-input-13-48f1ae701d5e>\u001b[0m in \u001b[0;36m<cell line: 1>\u001b[0;34m()\u001b[0m\n\u001b[0;32m----> 1\u001b[0;31m \u001b[0;32mfrom\u001b[0m \u001b[0msklearn\u001b[0m\u001b[0;34m.\u001b[0m\u001b[0msvm\u001b[0m \u001b[0;32mimport\u001b[0m \u001b[0msvc\u001b[0m\u001b[0;34m\u001b[0m\u001b[0;34m\u001b[0m\u001b[0m\n\u001b[0m\u001b[1;32m      2\u001b[0m \u001b[0;31m##from sklearn.tree import DecissionTreeClassifier\u001b[0m\u001b[0;34m\u001b[0m\u001b[0;34m\u001b[0m\u001b[0m\n",
            "\u001b[0;31mImportError\u001b[0m: cannot import name 'svc' from 'sklearn.svm' (/usr/local/lib/python3.10/dist-packages/sklearn/svm/__init__.py)",
            "",
            "\u001b[0;31m---------------------------------------------------------------------------\u001b[0;32m\nNOTE: If your import is failing due to a missing package, you can\nmanually install dependencies using either !pip or !apt.\n\nTo view examples of installing some common dependencies, click the\n\"Open Examples\" button below.\n\u001b[0;31m---------------------------------------------------------------------------\u001b[0m\n"
          ]
        }
      ],
      "source": [
        "from sklearn.svm import svc\n",
        "##from sklearn.tree import DecissionTreeClassifier"
      ]
    },
    {
      "cell_type": "code",
      "execution_count": null,
      "metadata": {
        "colab": {
          "base_uri": "https://localhost:8080/"
        },
        "id": "lA5tXxJN5B_X",
        "outputId": "ac547ef6-1304-449b-ab2a-d961cf7ff101"
      },
      "outputs": [
        {
          "data": {
            "text/plain": [
              "6"
            ]
          },
          "execution_count": 15,
          "metadata": {},
          "output_type": "execute_result"
        }
      ],
      "source": [
        "#Default parameter : without input any operator\n",
        "input1 = 6\n",
        "input2 = 2\n",
        "operator = 'add'\n",
        "\n",
        "def calculator(input1,input2,operator = 'add'): #here we need to define the default operator\n",
        "\n",
        "  if(operator == 'add'):\n",
        "    result = input1 + input2\n",
        "  elif(operator == 'sub'):\n",
        "    result = input1 - input2\n",
        "  elif(operator == 'mul'):\n",
        "    result = input1 * input2\n",
        "  elif(operator == 'div'):\n",
        "    result = input1 / input2\n",
        "  else:\n",
        "    result = -9999999999\n",
        "    print(\"invalid result\")\n",
        "  #print(result)\n",
        "  return(result)\n",
        "\n",
        "calculator(10,2,'add')\n",
        "var1 = calculator(10,2,'add')\n",
        "\n",
        "calculator(4,2)"
      ]
    },
    {
      "cell_type": "markdown",
      "metadata": {
        "id": "KVhOLoQiXsb_"
      },
      "source": [
        "###Day 6\n",
        "###Data Structures: List and Strings"
      ]
    },
    {
      "cell_type": "code",
      "execution_count": null,
      "metadata": {
        "colab": {
          "base_uri": "https://localhost:8080/"
        },
        "id": "oE1b9euiX4VU",
        "outputId": "28ad28c7-c251-4463-baea-c7816bc6c147"
      },
      "outputs": [
        {
          "name": "stdout",
          "output_type": "stream",
          "text": [
            "Marks:90\n",
            "Class Marks in iter  1   [90]\n",
            "Marks:99\n",
            "Class Marks in iter  2   [90, 99]\n",
            "Marks:66\n",
            "Class Marks in iter  3   [90, 99, 66]\n",
            "Marks:70\n",
            "Class Marks in iter  4   [90, 99, 66, 70]\n",
            "[90, 99, 66, 70]\n"
          ]
        }
      ],
      "source": [
        "from pickle import APPENDS\n",
        "#1. loop to record repetatively marks of different students adn strues it in a list.\n",
        "# will use append function to add each element.\n",
        "\n",
        "class_marks = []\n",
        "\n",
        "for i in range(4):\n",
        "  marks = int(input('Marks:'))\n",
        "  class_marks.append(marks)\n",
        "  print('Class Marks in iter ', i+1, ' ',7 class_marks)\n",
        "\n",
        "print(class_marks)"
      ]
    },
    {
      "cell_type": "code",
      "execution_count": null,
      "metadata": {
        "colab": {
          "base_uri": "https://localhost:8080/"
        },
        "id": "1bm_OghgZRc-",
        "outputId": "7da09d42-6055-4ccf-d33b-764b4c58705c"
      },
      "outputs": [
        {
          "name": "stdout",
          "output_type": "stream",
          "text": [
            "40\n"
          ]
        }
      ],
      "source": [
        "# Index : Location/position number of an element starts from 0.\n",
        "print(class_marks[1])"
      ]
    },
    {
      "cell_type": "code",
      "execution_count": null,
      "metadata": {
        "colab": {
          "base_uri": "https://localhost:8080/"
        },
        "id": "8S5kGYRlbGkM",
        "outputId": "94652a3e-a4d3-42ca-9ae5-3421f0621648"
      },
      "outputs": [
        {
          "name": "stdout",
          "output_type": "stream",
          "text": [
            "Style1\n",
            "90\n",
            "99\n",
            "66\n",
            "70\n",
            "Style2\n",
            "90\n",
            "99\n",
            "66\n",
            "70\n"
          ]
        }
      ],
      "source": [
        "#Access every element at each iteration / iterate through the list.\n",
        "#Style -1\n",
        "print('Style1')\n",
        "for i in range(len(class_marks)):\n",
        "  #i is indexing from 0 to list-length - 1\n",
        "  print(class_marks[i])\n",
        "\n",
        "#Style - 2\n",
        "print('Style2')\n",
        "for i in class_marks:\n",
        "  #i is directly iterating through the list.\n",
        "  print(i)"
      ]
    },
    {
      "cell_type": "code",
      "execution_count": null,
      "metadata": {
        "colab": {
          "base_uri": "https://localhost:8080/"
        },
        "id": "EPFA9VdHcvY_",
        "outputId": "91e8fbbe-3551-45d7-f41b-5d71daa2db13"
      },
      "outputs": [
        {
          "name": "stdout",
          "output_type": "stream",
          "text": [
            "[90, 99, 88, 70]\n",
            "Class Marks of 2:  88\n"
          ]
        }
      ],
      "source": [
        "# Update marks, by given index 2.\n",
        "class_marks[2] = class_marks[2] + 5\n",
        "print(class_marks)\n",
        "print(\"Class Marks of 2: \",class_marks[2])"
      ]
    },
    {
      "cell_type": "code",
      "execution_count": null,
      "metadata": {
        "colab": {
          "base_uri": "https://localhost:8080/"
        },
        "id": "I3CsP6MTeD6C",
        "outputId": "bbc65b9c-00d7-4979-9893-3e22d7322cd0"
      },
      "outputs": [
        {
          "name": "stdout",
          "output_type": "stream",
          "text": [
            "[70, 88, 90, 99]\n",
            "[99, 90, 88, 70]\n"
          ]
        }
      ],
      "source": [
        "# Few function on list.\n",
        "class_marks.sort()\n",
        "print(class_marks)\n",
        "\n",
        "class_marks.sort(reverse=True)\n",
        "print(class_marks)\n",
        "\n",
        "# Need to go through differnt functions in list like count() etc. Go through : https://www.w3schools.com/python/python_ref_list.asp"
      ]
    },
    {
      "cell_type": "markdown",
      "metadata": {
        "id": "QMXNLBsnfJZ6"
      },
      "source": [
        "##Strings"
      ]
    },
    {
      "cell_type": "code",
      "execution_count": null,
      "metadata": {
        "colab": {
          "base_uri": "https://localhost:8080/"
        },
        "id": "wW3dJo9pfLkx",
        "outputId": "06050390-9737-46f4-afea-096ef37353bb"
      },
      "outputs": [
        {
          "name": "stdout",
          "output_type": "stream",
          "text": [
            " \n",
            "A\n",
            " \n",
            "v\n",
            "e\n",
            "r\n",
            "y\n",
            " \n",
            "g\n",
            "o\n",
            "o\n",
            "d\n",
            "\n",
            "\n",
            "p\n",
            "e\n",
            "r\n",
            "s\n",
            "o\n",
            "n\n",
            ".\n",
            "\n",
            "\n",
            "Style2\n",
            " \n",
            "A\n",
            " \n",
            "v\n",
            "e\n",
            "r\n",
            "y\n",
            " \n",
            "g\n",
            "o\n",
            "o\n",
            "d\n",
            "\n",
            "\n",
            "p\n",
            "e\n",
            "r\n",
            "s\n",
            "o\n",
            "n\n",
            ".\n",
            "\n",
            "\n"
          ]
        }
      ],
      "source": [
        "strp = 'Sunil'\n",
        "str1 = \"Another\"\n",
        "str2 = ''' A very good\n",
        "person.\n",
        "'''\n",
        "#print each element in a perticular iteration.\n",
        "for i in str2:\n",
        "  print(i)\n",
        "\n",
        "#Style 2\n",
        "print('Style2')\n",
        "for i in range(len(str2)):\n",
        "  print(str2[i])"
      ]
    },
    {
      "cell_type": "code",
      "execution_count": null,
      "metadata": {
        "colab": {
          "base_uri": "https://localhost:8080/"
        },
        "id": "Wd45axaIgw8f",
        "outputId": "b9ac30e6-f05f-428e-c4c9-ed8b7ec0e27a"
      },
      "outputs": [
        {
          "data": {
            "text/plain": [
              "True"
            ]
          },
          "execution_count": 31,
          "metadata": {},
          "output_type": "execute_result"
        }
      ],
      "source": [
        "#String methods/function/operations\n",
        "#format : <string_name>.<function_name>(<arguments>)\n",
        "#More methos : https://www.w3schools.com/python/python_ref_string.asp\n",
        "txt = 'dkfce'\n",
        "txt.isalpha()\n",
        "\n"
      ]
    },
    {
      "cell_type": "code",
      "execution_count": null,
      "metadata": {
        "colab": {
          "base_uri": "https://localhost:8080/"
        },
        "id": "KPROHBROiQZZ",
        "outputId": "b3875f32-fcd8-494c-83db-e4b79761e7f2"
      },
      "outputs": [
        {
          "name": "stdout",
          "output_type": "stream",
          "text": [
            "Sunil#Sashank#Subrat\n"
          ]
        }
      ],
      "source": [
        "#Join function\n",
        "#you have a list of string and you want to join it together with a separator #.\n",
        "y = ['Sunil','Sashank','Subrat']\n",
        "x = '#'.join(y)\n",
        "print(x)"
      ]
    },
    {
      "cell_type": "code",
      "execution_count": null,
      "metadata": {
        "colab": {
          "base_uri": "https://localhost:8080/"
        },
        "id": "M7PqGzPLiYkS",
        "outputId": "5f6dd258-bc21-4186-e7d7-d0eaa5414e32"
      },
      "outputs": [
        {
          "name": "stdout",
          "output_type": "stream",
          "text": [
            "Sunil Pradhan\n"
          ]
        }
      ],
      "source": [
        "#Concatination function\n",
        "First_name = 'Sunil'\n",
        "Second_name = 'Pradhan'\n",
        "Full_Name = First_name +\" \"+ Second_name\n",
        "print(Full_Name)"
      ]
    },
    {
      "cell_type": "markdown",
      "metadata": {
        "id": "Nop48TYAjFYY"
      },
      "source": [
        "Strings are immutable.\n",
        "We can't do : first_name[2] = 'd'"
      ]
    },
    {
      "cell_type": "code",
      "execution_count": null,
      "metadata": {
        "colab": {
          "base_uri": "https://localhost:8080/"
        },
        "id": "24f3xm-vjVxM",
        "outputId": "c162c01e-729b-41d2-c51f-e31372e8bf2a"
      },
      "outputs": [
        {
          "name": "stdout",
          "output_type": "stream",
          "text": [
            "Sun\n",
            "Sun\n",
            "nil Pradhan\n"
          ]
        }
      ],
      "source": [
        "#Slicing : Choose a subset of a string.\n",
        "#<string_name>[start:end] : it will pick start to end-1\n",
        "print(Full_Name[0:3])\n",
        "print(Full_Name[:3]) #it takes from start. Takes everything from start to end-1\n",
        "print(Full_Name[2:]) # Takes everything from 2 to end."
      ]
    },
    {
      "cell_type": "markdown",
      "metadata": {
        "id": "Uf9e2ac6tC31"
      },
      "source": [
        "##Day7\n",
        "##Dictionary"
      ]
    },
    {
      "cell_type": "markdown",
      "metadata": {
        "id": "Uq_Lh49nt2I2"
      },
      "source": [
        ":Dict: Genralised form of a list.\n",
        "index (key) : typically str\n",
        "(string) -> (any data type)\n",
        "Also called hash key."
      ]
    },
    {
      "cell_type": "code",
      "execution_count": null,
      "metadata": {
        "colab": {
          "base_uri": "https://localhost:8080/"
        },
        "id": "H5jCF7Psuf9T",
        "outputId": "baddf625-8878-4bd2-9cfa-e1c5510a8b0e"
      },
      "outputs": [
        {
          "name": "stdout",
          "output_type": "stream",
          "text": [
            "Located in page 2\n",
            "[1, 2, 3]\n"
          ]
        }
      ],
      "source": [
        "'''\n",
        "<dict_name> = {\n",
        "  'key1' : value1,\n",
        "  'key2' : value2\n",
        "}'''\n",
        "\n",
        "d = {\n",
        "  'AlphaML' : 'Located in page 2',\n",
        "  'How do you do?' : 'Located in page 3'\n",
        "}\n",
        "\n",
        "print(d['AlphaML'])\n",
        "\n",
        "#Example 2\n",
        "d = {\n",
        "  'AlphaML' : [1,2,3],\n",
        "  'How do you do?' : 'Located in page 3'\n",
        "}\n",
        "\n",
        "print(d['AlphaML'])"
      ]
    },
    {
      "cell_type": "code",
      "execution_count": null,
      "metadata": {
        "colab": {
          "base_uri": "https://localhost:8080/"
        },
        "id": "6L5-mG5Qvm1l",
        "outputId": "e3c33763-f549-4f95-a74c-18a5e0a3b4a3"
      },
      "outputs": [
        {
          "name": "stdout",
          "output_type": "stream",
          "text": [
            "dict_keys(['AlphaML', 'How do you do?'])\n",
            "<class 'dict_keys'>\n"
          ]
        }
      ],
      "source": [
        "#How to find the key of a dictionary.\n",
        "print(d.keys())\n",
        "print(type(d.keys()))"
      ]
    },
    {
      "cell_type": "code",
      "execution_count": null,
      "metadata": {
        "colab": {
          "base_uri": "https://localhost:8080/"
        },
        "id": "qS8p-ZkLxbUQ",
        "outputId": "8d59ec29-f0e8-4f4d-9ce4-ec8a647e382c"
      },
      "outputs": [
        {
          "name": "stdout",
          "output_type": "stream",
          "text": [
            "AlphaML [1, 2, 3]\n",
            "How do you do? Located in page 3\n"
          ]
        }
      ],
      "source": [
        "#Iterate through dict through keys.\n",
        "for i in di.keys():\n",
        "  key = i\n",
        "  Value = d[key]\n",
        "  print(key,Value)"
      ]
    },
    {
      "cell_type": "code",
      "execution_count": null,
      "metadata": {
        "colab": {
          "base_uri": "https://localhost:8080/"
        },
        "id": "YXJDyIUe1dWs",
        "outputId": "b1b3565c-67f8-44fc-cb45-bed103a1c832"
      },
      "outputs": [
        {
          "name": "stdout",
          "output_type": "stream",
          "text": [
            "{'AlphaML': [1, 2, 3], 'How do you do?': 'Located in page 3', 'yo': [4, 5, 6]}\n"
          ]
        }
      ],
      "source": [
        "#Add something to dictionary.\n",
        "d['yo'] = [4,5,6]\n",
        "print(d)\n",
        "# By Default I have assign print = d which leds to error where I have used print satement. so avoid this!\n"
      ]
    },
    {
      "cell_type": "code",
      "execution_count": null,
      "metadata": {
        "id": "KPnJNty83lKu"
      },
      "outputs": [],
      "source": [
        "del(print) # this solved"
      ]
    },
    {
      "cell_type": "code",
      "execution_count": null,
      "metadata": {
        "id": "T5xKD0og5dcZ"
      },
      "outputs": [],
      "source": [
        "#set : not very useful\n",
        "this = {'Sunil','Sunil','Skp'}"
      ]
    },
    {
      "cell_type": "code",
      "execution_count": null,
      "metadata": {
        "id": "q8s_H_Sc5-EK"
      },
      "outputs": [],
      "source": [
        "#Tuple\n",
        "tup = ('Sunil',1,2,'Pradhan')"
      ]
    },
    {
      "cell_type": "markdown",
      "metadata": {
        "id": "-WRF8QBz6eWC"
      },
      "source": [
        "##Operator\n",
        "Arithmatic Operators : +, -, /, *, %, **- Exponitition, //-floor division"
      ]
    },
    {
      "cell_type": "code",
      "execution_count": null,
      "metadata": {
        "colab": {
          "base_uri": "https://localhost:8080/"
        },
        "id": "xEsJzBxa67Tr",
        "outputId": "45d280cb-ea85-4c4b-9768-f0170f01363e"
      },
      "outputs": [
        {
          "name": "stdout",
          "output_type": "stream",
          "text": [
            "8\n",
            "1\n",
            "1\n"
          ]
        }
      ],
      "source": [
        "x = 2 * 4\n",
        "print(x)\n",
        "\n",
        "y = 5 % 2\n",
        "print(y)\n",
        "\n",
        "#Checking Equality\n",
        "##  ==, <=,>=, !=\n",
        "\n",
        "\n",
        "if (x != 6):\n",
        "  print(y)\n",
        "else:\n",
        "  print(x)"
      ]
    },
    {
      "cell_type": "code",
      "execution_count": null,
      "metadata": {
        "colab": {
          "base_uri": "https://localhost:8080/"
        },
        "id": "K35mt9a2783T",
        "outputId": "6fb896b0-1f2d-4b76-8cfb-8e77e8bfe15d"
      },
      "outputs": [
        {
          "name": "stdout",
          "output_type": "stream",
          "text": [
            "256.0\n",
            "128.0\n"
          ]
        }
      ],
      "source": [
        "#Short-hand representatioon x = x * 2 and x *= 2 is the same operation\n",
        "x = x * 2\n",
        "x *= 2\n",
        "print(x)\n",
        "\n",
        "x /= 2\n",
        "\n",
        "print(x)"
      ]
    },
    {
      "cell_type": "code",
      "execution_count": null,
      "metadata": {
        "colab": {
          "base_uri": "https://localhost:8080/"
        },
        "id": "wER2v33i8nIx",
        "outputId": "fcb2d231-24ba-4838-d659-638c75c57ce8"
      },
      "outputs": [
        {
          "name": "stdout",
          "output_type": "stream",
          "text": [
            "yes\n"
          ]
        }
      ],
      "source": [
        "# Logical Operators - and, or, not, in\n",
        "x = 3\n",
        "if ( x > 100 and x < 150):\n",
        "  print('yes')\n",
        "\n",
        "\n",
        "\n",
        "if ( x > 100 or x < 10):\n",
        "  print('yes')\n",
        "else:\n",
        "  print('No')\n"
      ]
    },
    {
      "cell_type": "code",
      "execution_count": null,
      "metadata": {
        "colab": {
          "base_uri": "https://localhost:8080/"
        },
        "id": "TgoH_YcD-NZh",
        "outputId": "6193c7d0-3b77-4db6-a40e-d7d898e1352f"
      },
      "outputs": [
        {
          "name": "stdout",
          "output_type": "stream",
          "text": [
            "no\n"
          ]
        }
      ],
      "source": [
        "\n",
        "if (not(x==3)): #'not' Nagates the internal operators, mean true become false and false become true\n",
        "  print('yes')\n",
        "else:\n",
        "  print('no')"
      ]
    },
    {
      "cell_type": "code",
      "execution_count": null,
      "metadata": {
        "colab": {
          "base_uri": "https://localhost:8080/"
        },
        "id": "SFcIJS8H-jzJ",
        "outputId": "e460f35d-0607-4aa4-f0c7-5dec92899912"
      },
      "outputs": [
        {
          "name": "stdout",
          "output_type": "stream",
          "text": [
            "true\n",
            "false\n"
          ]
        }
      ],
      "source": [
        "#In Operator\n",
        "if ('a' in 'alibaba'):\n",
        "  print('true')\n",
        "\n",
        "if (10 in [1,2,3,4,5,6]):\n",
        "  print('true')\n",
        "else:\n",
        "  print('false')"
      ]
    },
    {
      "cell_type": "markdown",
      "metadata": {
        "id": "AY1Eg8sURg7K"
      },
      "source": [
        "##Day 8 - Quiz 2"
      ]
    },
    {
      "cell_type": "markdown",
      "metadata": {
        "id": "ZMHKCenYRlgw"
      },
      "source": [
        "\"\"\"\n",
        "Write 3 functions, one for each operation:\n",
        "Input: List of strings\n",
        "Assume: The search elements exist atleast once in the list\n",
        "\"\"\""
      ]
    },
    {
      "cell_type": "code",
      "execution_count": 4,
      "metadata": {
        "colab": {
          "base_uri": "https://localhost:8080/"
        },
        "id": "AmuZDcYBRkUr",
        "outputId": "c0a04bbc-3d72-4347-b388-8ae140ad6fd3"
      },
      "outputs": [
        {
          "name": "stdout",
          "output_type": "stream",
          "text": [
            "4\n",
            "4\n"
          ]
        }
      ],
      "source": [
        "\"\"\"\n",
        "Given the input list and element to be found, return the index of the first occurance\n",
        "Input List = [\"hey\", \"how\", \"is\", \"hey\", \"you\", \"how\", \"are\", \"you\", \"hey\"]\n",
        "Search Element = \"you\"\n",
        "Output = 4\n",
        "\"\"\"\n",
        "\"\"\"def search(input_list, search_elem):\n",
        "  pass\"\"\"\n",
        "\n",
        "Input_List = [\"hey\", \"how\", \"is\", \"hey\", \"you\", \"how\", \"are\", \"you\", \"hey\"]\n",
        "search_elem = \"you\"\n",
        "\n",
        "for i in range(len(Input_List)):\n",
        "  if (Input_List[i] == 'you'):\n",
        "    index = i\n",
        "    break\n",
        "print(index)\n",
        "\n",
        "#Otherway\n",
        "def search(Input_List, search_elem):\n",
        "  for idx in range(len(Input_List)):\n",
        "    if (search_elem == Input_List[idx]):\n",
        "      return idx\n",
        "  return -1\n",
        "  \n",
        "print(search(Input_List,search_elem))\n",
        "\n",
        "\n",
        "#ANother way\n",
        "def count(input_list, search_elem):\n",
        "  answer = -1\n",
        "  for i in range(len(Input_List)):\n",
        "    if(search_elem == Input_List[idx]):\n",
        "      if(answer == -1):\n",
        "        answer = idx \n",
        "  return answer\n",
        "print(search(Input_List,search_elem))\n"
      ]
    },
    {
      "cell_type": "code",
      "execution_count": 8,
      "metadata": {
        "colab": {
          "base_uri": "https://localhost:8080/"
        },
        "id": "Ruf-zg13RsTI",
        "outputId": "0a8ebc81-9ec1-4932-e91f-e3e5746edaab"
      },
      "outputs": [
        {
          "name": "stdout",
          "output_type": "stream",
          "text": [
            "3\n"
          ]
        },
        {
          "data": {
            "text/plain": [
              "<function __main__.count(input_list, search_elem)>"
            ]
          },
          "execution_count": 8,
          "metadata": {},
          "output_type": "execute_result"
        }
      ],
      "source": [
        "\"\"\"\n",
        "Given the input list, count the number of elements equal to 'search_elem'\n",
        "Input List = [\"hey\", \"how\", \"is\", \"hey\", \"you\", \"how\", \"are\", \"you\", \"hey\"]\n",
        "Search Element = \"hey\"\n",
        "Output = 3\n",
        "\"\"\"\n",
        "'''def count(input_list, search_elem):\n",
        "  pass'''\n",
        "\n",
        "Input_List = [\"hey\", \"how\", \"is\", \"hey\", \"you\", \"how\", \"are\", \"you\", \"hey\"]\n",
        "cou = 0\n",
        "for i in range(len(Input_List)):\n",
        "  if(Input_List[i] == 'hey'):\n",
        "    cou = cou + 1\n",
        "print(cou)\n",
        "\n",
        "#other way\n",
        "\n",
        "def cnt(input_list, search_elem):\n",
        "  cnt = 0\n",
        "  for i in Input_List:\n",
        "    if(search_elem == i):\n",
        "      cnt = cnt + 1\n",
        "      #cnt += 1   Sorter way of writing arithmetic update ops\n",
        "  return count\n",
        "\n",
        "cnt(Input_List,search_elem)\n",
        "\n"
      ]
    },
    {
      "cell_type": "code",
      "execution_count": 9,
      "metadata": {
        "colab": {
          "base_uri": "https://localhost:8080/",
          "height": 53
        },
        "id": "PZ_Yjt8gRujr",
        "outputId": "be9b028d-eaec-466e-cebb-114e40c8545e"
      },
      "outputs": [
        {
          "name": "stdout",
          "output_type": "stream",
          "text": [
            "{'hey': [0, 3, 8], 'you': [4, 7]}\n",
            "None\n"
          ]
        }
      ],
      "source": [
        "\"\"\"\n",
        "Given the input list, and another list of search terms, return a dict with a list of their corresponding indices\n",
        "Input List = [\"hey\", \"how\", \"is\", \"hey\", \"you\", \"how\", \"are\", \"you\", \"hey\"]\n",
        "Search List = [\"hey\", \"you\"]\n",
        "Output Dict = {\n",
        "  \"hey\" : [0, 3, 8],\n",
        "  \"you\" : [4, 7]\n",
        "}\n",
        "\n",
        "Concept: Nested for loops -> One for loop inside another\n",
        "\"\"\"\n",
        "'''\n",
        "def search_location(input_list, search_list):\n",
        "  pass'''\n",
        "\n",
        "Input_List = [\"hey\", \"how\", \"is\", \"hey\", \"you\", \"how\", \"are\", \"you\", \"hey\"]\n",
        "hey_index = []\n",
        "you_index = []\n",
        "Output_Dict = {}\n",
        "for i in range(len(Input_List)):\n",
        "  if (Input_List[i] == 'hey'):\n",
        "    hey_index.append(i)\n",
        "for i in range(len(Input_List)):\n",
        "  if(Input_List[i] == 'you'):\n",
        "    you_index.append(i)\n",
        "\n",
        "Output_Dict['hey'] = hey_index\n",
        "Output_Dict['you'] = you_index\n",
        "\n",
        "print(Output_Dict)\n",
        "\n"
      ]
    },
    {
      "cell_type": "code",
      "execution_count": 13,
      "metadata": {},
      "outputs": [
        {
          "name": "stdout",
          "output_type": "stream",
          "text": [
            "{'hey': [0, 3, 8], 'you': [4, 7]}\n"
          ]
        }
      ],
      "source": [
        "#Otherway\n",
        "#brute force solution\n",
        "input_list = [\"hey\", \"how\", \"is\", \"hey\", \"you\", \"how\", \"are\", \"you\", \"hey\"]\n",
        "Search_List = [\"hey\", \"you\"]\n",
        "\n",
        "def search_location(input_list, Search_List):\n",
        "\n",
        "  output = {}\n",
        "  for search_word in Search_List:\n",
        "    output[search_word] = []\n",
        "  #nested for loops one inside another\n",
        "  for search_word in Search_List:\n",
        "    #Search word is fixed now - for this iteration!\n",
        "    for list_idx in range(len(input_list)):\n",
        "      if(search_word == input_list[list_idx]):\n",
        "        output[search_word].append(list_idx)\n",
        "  return output\n",
        "\n",
        "#Function calling stage\n",
        "input_list = [\"hey\", \"how\", \"is\", \"hey\", \"you\", \"how\", \"are\", \"you\", \"hey\"]\n",
        "Search_List = [\"hey\", \"you\"]\n",
        "output = search_location(input_list, Search_List)\n",
        "print(output)"
      ]
    },
    {
      "cell_type": "markdown",
      "metadata": {
        "id": "b2Sl2lEepJtA"
      },
      "source": [
        "##Day8 - Classes\n",
        "Encapulation/Combination of functions and variables.\n"
      ]
    },
    {
      "cell_type": "code",
      "execution_count": null,
      "metadata": {
        "colab": {
          "base_uri": "https://localhost:8080/"
        },
        "id": "QDQa5nIUpVeh",
        "outputId": "a0e4a04e-8920-4c80-c9a8-3b12b33455fa"
      },
      "outputs": [
        {
          "name": "stdout",
          "output_type": "stream",
          "text": [
            "Sunil 26\n",
            "Sk 27\n"
          ]
        }
      ],
      "source": [
        "'''\n",
        "Syntax\n",
        "class <Class_name> ():\n",
        "  def __int__(self, <function_argu>):\n",
        "    self.<variable> = <function_arg>\n",
        "\n",
        "def method1 (self,<arg>):\n",
        "  pass\n",
        "\n",
        "#Class object instantiation.\n",
        "<object_name> = <Class_name>(<function_arg>)\n",
        "\n",
        "#If we want to store student names and age\n",
        "S1_name: 'Sunil'\n",
        "S1_age: 26\n",
        "\n",
        "s2_name = 'Sk'\n",
        "S2_age = 27\n",
        "\n",
        "\n",
        "#Self is used to reference attributed from the objects. Variables and func residec inside the object self.\n",
        "self.<variable_name>\n",
        "self.<function_name>.\n",
        "\n",
        "self --> is used to reference things which can be called as object.<thing>\n",
        "'''\n",
        "\n",
        "class student():\n",
        "  def __init__ (self,name,age):\n",
        "    self.name = name.  # Self is referencing to 'student'\n",
        "    self.age = age\n",
        "\n",
        "s1 = student('Sunil',26)\n",
        "s2 = student('Sk',27)\n",
        "\n",
        "print(s1.name,s1.age)\n",
        "print(s2.name,s2.age)\n"
      ]
    },
    {
      "cell_type": "code",
      "execution_count": null,
      "metadata": {
        "id": "uhTSD3sQZ1Mf"
      },
      "outputs": [],
      "source": [
        "#Example -2\n",
        "class student():\n",
        "  def __init__ (self,name,age, score):\n",
        "    self.name = name\n",
        "    self.age = age\n",
        "    self.score = score\n",
        "\n",
        "  def convert_to_grade(self):\n",
        "    if(self.score>=30):\n",
        "      self.grade = 'Pass'\n",
        "    else:\n",
        "      self.grade = 'Fail'\n",
        "\n",
        "      #Update scode and map the score to grade.\n",
        "  def update_and_grading(self, new_score):\n",
        "    self.score = new_score\n",
        "    self.convert_to_grade()\n",
        "    self.determine_scholarship()\n",
        "    print(self.score,self.grade, self.scholarship)\n",
        "\n",
        "#Determine eligibility of scholarship\n",
        "  def determine_scholarship(self):\n",
        "    if(self.score > 90):\n",
        "      self.scholarship = True\n",
        "    else:\n",
        "      self.scholarship = False\n"
      ]
    },
    {
      "cell_type": "code",
      "execution_count": null,
      "metadata": {
        "colab": {
          "base_uri": "https://localhost:8080/"
        },
        "id": "dvg_1IKLbfDZ",
        "outputId": "b0bb9e7c-7282-4a55-93a8-c63d3a38a611"
      },
      "outputs": [
        {
          "name": "stdout",
          "output_type": "stream",
          "text": [
            "Sunil 26 29\n"
          ]
        }
      ],
      "source": [
        "s1 = student('Sunil',26, 29)\n",
        "\n",
        "print(s1.name,s1.age, s1.score)\n"
      ]
    },
    {
      "cell_type": "code",
      "execution_count": null,
      "metadata": {
        "colab": {
          "base_uri": "https://localhost:8080/"
        },
        "id": "7RdzxBC4cHDK",
        "outputId": "445e4950-76fb-4462-bc52-76b1ef6deb69"
      },
      "outputs": [
        {
          "name": "stdout",
          "output_type": "stream",
          "text": [
            "Fail\n"
          ]
        }
      ],
      "source": [
        "s1.convert_to_grade()\n",
        "print(s1.grade)"
      ]
    },
    {
      "cell_type": "code",
      "execution_count": null,
      "metadata": {
        "colab": {
          "base_uri": "https://localhost:8080/"
        },
        "id": "MbhCt640c7zM",
        "outputId": "80816632-ac12-497f-8e32-8bf2790add7d"
      },
      "outputs": [
        {
          "name": "stdout",
          "output_type": "stream",
          "text": [
            "70\n"
          ]
        }
      ],
      "source": [
        "#Traditional way of updating internal attribute in class.\n",
        "s1.score = 70\n",
        "print(s1.score)"
      ]
    },
    {
      "cell_type": "code",
      "execution_count": null,
      "metadata": {
        "colab": {
          "base_uri": "https://localhost:8080/"
        },
        "id": "kdoHS_5ZeayY",
        "outputId": "6ee0daa9-ac64-44f1-b020-72cc4133c08e"
      },
      "outputs": [
        {
          "name": "stdout",
          "output_type": "stream",
          "text": [
            "91 Pass True\n"
          ]
        }
      ],
      "source": [
        "s1.update_and_grading(91)"
      ]
    },
    {
      "cell_type": "code",
      "execution_count": null,
      "metadata": {
        "colab": {
          "base_uri": "https://localhost:8080/"
        },
        "id": "jFPJ5-TRgizq",
        "outputId": "dc908b93-3b54-46a8-c39d-1739aed4bfb1"
      },
      "outputs": [
        {
          "data": {
            "text/plain": [
              "True"
            ]
          },
          "execution_count": 34,
          "metadata": {},
          "output_type": "execute_result"
        }
      ],
      "source": [
        "s1. scholarship"
      ]
    },
    {
      "cell_type": "markdown",
      "metadata": {
        "id": "F9Nisxd-g2Oy"
      },
      "source": [
        "##Inheritance"
      ]
    },
    {
      "cell_type": "code",
      "execution_count": null,
      "metadata": {
        "id": "4sXlYt0XhB0R"
      },
      "outputs": [],
      "source": [
        "'''\n",
        "inheritance --> whatever properties have been defined in the privious class that has been inherited here. Here studet is the parent class and alumni is the child class.\n",
        "\n",
        "class <child_class_name>(<parent_class_name>):\n",
        "  def __init__ (self, name):\n",
        "    pass\n",
        "\n",
        "  def method1 (self):\n",
        "    pass\n",
        "    '''\n",
        "\n",
        "class alumni(student):\n",
        "  def __init__(self,name,age, score, year):\n",
        "    student.__init__(self, name, age, score)\n",
        "    self.graduation_year = year\n",
        "\n",
        "#Another way of writing:\n",
        "class alumni(student):\n",
        "  def __init__(self,name,age, score, year):\n",
        "    super().__init__(name, age, score)  # people also write in different way, only you need to remove super after __init__ --> super().__init__(self, name, age, score)\n",
        "    self.graduation_year = year\n"
      ]
    },
    {
      "cell_type": "code",
      "execution_count": null,
      "metadata": {
        "colab": {
          "base_uri": "https://localhost:8080/"
        },
        "id": "IdTfGsIzidPv",
        "outputId": "76609cc0-a69a-415d-ffd6-42e5a97db8b3"
      },
      "outputs": [
        {
          "name": "stdout",
          "output_type": "stream",
          "text": [
            "2022\n"
          ]
        }
      ],
      "source": [
        "a = alumni('Rohit', 29, 88)\n",
        "print(a.name)"
      ]
    },
    {
      "cell_type": "code",
      "execution_count": null,
      "metadata": {
        "colab": {
          "base_uri": "https://localhost:8080/"
        },
        "id": "0yHDTwbHi1J-",
        "outputId": "448acfd1-a1de-4bb9-a7b8-fa61c01f748f"
      },
      "outputs": [
        {
          "name": "stdout",
          "output_type": "stream",
          "text": [
            "Pass\n"
          ]
        }
      ],
      "source": [
        "a.convert_to_grade()\n",
        "print(a.grade)"
      ]
    },
    {
      "cell_type": "code",
      "execution_count": null,
      "metadata": {
        "colab": {
          "base_uri": "https://localhost:8080/"
        },
        "id": "u8J8nk8Wj3EQ",
        "outputId": "4cf4e055-dead-4f86-90b9-968d4fee5626"
      },
      "outputs": [
        {
          "name": "stdout",
          "output_type": "stream",
          "text": [
            "2022\n"
          ]
        }
      ],
      "source": [
        "a = alumni('Rohit', 29, 88, 2022)\n",
        "print(a.graduation_year)"
      ]
    }
  ],
  "metadata": {
    "colab": {
      "provenance": []
    },
    "kernelspec": {
      "display_name": "Python 3",
      "name": "python3"
    },
    "language_info": {
      "codemirror_mode": {
        "name": "ipython",
        "version": 3
      },
      "file_extension": ".py",
      "mimetype": "text/x-python",
      "name": "python",
      "nbconvert_exporter": "python",
      "pygments_lexer": "ipython3",
      "version": "3.11.4"
    }
  },
  "nbformat": 4,
  "nbformat_minor": 0
}
