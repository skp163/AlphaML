{
  "cells": [
    {
      "cell_type": "markdown",
      "metadata": {},
      "source": [
        "##Quiz 1"
      ]
    },
    {
      "cell_type": "code",
      "execution_count": 1,
      "metadata": {
        "id": "XKYdbT8Mwe7e"
      },
      "outputs": [
        {
          "name": "stdout",
          "output_type": "stream",
          "text": [
            "new values: 5 3\n",
            "New values: 3 5\n"
          ]
        }
      ],
      "source": [
        "''' \n",
        "Q1 : Can you swap A & B\n",
        "\n",
        "Initial:\n",
        "A = 5\n",
        "B = 3\n",
        "\n",
        "End:\n",
        "A = 3\n",
        "B = 5\n",
        "'''\n",
        "\n",
        "A = 5\n",
        "B = 3\n",
        "\n",
        "print('new values:',A,B)\n",
        "\n",
        "temp = A #Created a duplicate of A = 5\n",
        "A = B #A now has B's value  | A = 3, B = 3\n",
        "B = temp #final step\n",
        "\n",
        "print('New values:', A,B)\n"
      ]
    },
    {
      "cell_type": "code",
      "execution_count": 2,
      "metadata": {},
      "outputs": [
        {
          "name": "stdout",
          "output_type": "stream",
          "text": [
            "20\n"
          ]
        }
      ],
      "source": [
        "#The user will give you 5 integers as an input. Use the input() function to capture it and write python code print the resultant sum.\n",
        "#Not correct\n",
        "sum = 0\n",
        "for i in range(5):\n",
        "  intr = int(input(\"Enter an Integer: \"))\n",
        "  sum = sum + intr\n",
        "\n",
        "print(sum)"
      ]
    }
  ],
  "metadata": {
    "colab": {
      "provenance": []
    },
    "kernelspec": {
      "display_name": "Python 3",
      "name": "python3"
    },
    "language_info": {
      "codemirror_mode": {
        "name": "ipython",
        "version": 3
      },
      "file_extension": ".py",
      "mimetype": "text/x-python",
      "name": "python",
      "nbconvert_exporter": "python",
      "pygments_lexer": "ipython3",
      "version": "3.11.4"
    }
  },
  "nbformat": 4,
  "nbformat_minor": 0
}
