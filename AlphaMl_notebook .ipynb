{
  "cells": [
    {
      "cell_type": "code",
      "execution_count": null,
      "metadata": {
        "colab": {
          "base_uri": "https://localhost:8080/"
        },
        "id": "XllFz5AUKAOS",
        "outputId": "e9d70aac-f30f-4557-af89-ca5afbcae8cc"
      },
      "outputs": [
        {
          "name": "stdout",
          "output_type": "stream",
          "text": [
            "3\n"
          ]
        }
      ],
      "source": [
        "a= 1\n",
        "b = 2\n",
        "c = (a+b)\n",
        "print(c)"
      ]
    },
    {
      "cell_type": "code",
      "execution_count": null,
      "metadata": {
        "colab": {
          "base_uri": "https://localhost:8080/"
        },
        "id": "-JzF7ZEXKZBu",
        "outputId": "d1b4b6ad-a6cb-45de-e51f-0bb97df2a4a8"
      },
      "outputs": [
        {
          "name": "stdout",
          "output_type": "stream",
          "text": [
            "[1, 2, 5, 4]\n"
          ]
        }
      ],
      "source": [
        "ab = [1,2,3,4]\n",
        "type(ab)\n",
        "ab[2] = 5\n",
        "print(ab)"
      ]
    },
    {
      "cell_type": "markdown",
      "metadata": {
        "id": "Q3TrzQ1IKS5C"
      },
      "source": [
        "###Day 2"
      ]
    },
    {
      "cell_type": "code",
      "execution_count": null,
      "metadata": {
        "colab": {
          "base_uri": "https://localhost:8080/"
        },
        "id": "8PRo1qOnKVIy",
        "outputId": "9b5bfc2e-cb2b-41d3-bfda-f3fa09d17ac1"
      },
      "outputs": [
        {
          "name": "stdout",
          "output_type": "stream",
          "text": [
            "3.0\n"
          ]
        }
      ],
      "source": [
        "a= 6\n",
        "b = 2\n",
        "c = a/b\n",
        "print(c)"
      ]
    },
    {
      "cell_type": "code",
      "execution_count": null,
      "metadata": {
        "colab": {
          "base_uri": "https://localhost:8080/"
        },
        "id": "VeHE9ToXKdO8",
        "outputId": "94734d2c-5b5e-4928-d72a-7b1b9d2830b4"
      },
      "outputs": [
        {
          "name": "stdout",
          "output_type": "stream",
          "text": [
            "3.0\n"
          ]
        }
      ],
      "source": [
        "oprerator = 'division'\n",
        "if(oprerator == 'addition'):\n",
        "  print(a+b)\n",
        "elif(oprerator == 'Sub'):\n",
        "  print(a-b)\n",
        "elif(oprerator == 'division'):\n",
        "  print(a/b)\n",
        "else:\n",
        "  print(\"Invalid\")"
      ]
    },
    {
      "cell_type": "markdown",
      "metadata": {
        "id": "y8LFEDXLRLuB"
      },
      "source": [
        "###Day:3\n",
        "TypeCasting\n"
      ]
    },
    {
      "cell_type": "code",
      "execution_count": null,
      "metadata": {
        "colab": {
          "base_uri": "https://localhost:8080/"
        },
        "id": "uFgFynhBRPbZ",
        "outputId": "d7135cd0-f2ee-4315-f1b7-f08685244e97"
      },
      "outputs": [
        {
          "data": {
            "text/plain": [
              "str"
            ]
          },
          "execution_count": 4,
          "metadata": {},
          "output_type": "execute_result"
        }
      ],
      "source": [
        "type(a)\n",
        "\n",
        "#Typecasting : Changing the data type of a variable with out replacing the value.\n",
        "ab = 3\n",
        "ab = str(3)\n",
        "type(ab)"
      ]
    },
    {
      "cell_type": "markdown",
      "metadata": {
        "id": "2SU8ovcoTRUk"
      },
      "source": [
        "Looping"
      ]
    },
    {
      "cell_type": "code",
      "execution_count": null,
      "metadata": {
        "colab": {
          "base_uri": "https://localhost:8080/"
        },
        "id": "Tx_fX3ftTS78",
        "outputId": "701d3b03-4b26-4d5e-a2f3-118e36c99e79"
      },
      "outputs": [
        {
          "name": "stdout",
          "output_type": "stream",
          "text": [
            "5\n",
            "6\n",
            "7\n",
            "8\n",
            "9\n",
            "10\n",
            "11\n",
            "12\n",
            "13\n",
            "14\n",
            "15\n",
            "16\n",
            "17\n",
            "18\n",
            "19\n",
            "20\n",
            "21\n",
            "22\n",
            "23\n",
            "24\n",
            "25\n",
            "26\n",
            "27\n",
            "28\n",
            "29\n",
            "30\n",
            "31\n",
            "32\n",
            "33\n",
            "34\n",
            "35\n",
            "36\n",
            "37\n",
            "38\n",
            "39\n",
            "40\n",
            "41\n",
            "42\n",
            "43\n",
            "44\n",
            "45\n",
            "46\n",
            "47\n",
            "48\n",
            "49\n",
            "50\n",
            "51\n",
            "52\n",
            "53\n",
            "54\n",
            "55\n",
            "56\n",
            "57\n",
            "58\n",
            "59\n",
            "60\n",
            "61\n",
            "62\n",
            "63\n",
            "64\n",
            "65\n",
            "66\n",
            "67\n",
            "68\n",
            "69\n",
            "70\n",
            "71\n",
            "72\n",
            "73\n",
            "74\n",
            "75\n",
            "76\n",
            "77\n",
            "78\n",
            "79\n",
            "80\n",
            "81\n",
            "82\n",
            "83\n",
            "84\n",
            "85\n",
            "86\n",
            "87\n",
            "88\n",
            "89\n",
            "90\n",
            "91\n",
            "92\n",
            "93\n",
            "94\n",
            "95\n",
            "96\n",
            "97\n",
            "98\n",
            "99\n"
          ]
        }
      ],
      "source": [
        "#Print all the numbers from 5 to 10\n",
        "for i in range(5,100):\n",
        "  print(i)"
      ]
    },
    {
      "cell_type": "code",
      "execution_count": null,
      "metadata": {
        "colab": {
          "base_uri": "https://localhost:8080/"
        },
        "id": "fizOBlUdWxnW",
        "outputId": "61eb7ad5-9497-441e-993a-7780c00cddf1"
      },
      "outputs": [
        {
          "name": "stdout",
          "output_type": "stream",
          "text": [
            "Sunil\n",
            "Spineac\n",
            "google\n",
            "hi\n",
            "how are\n"
          ]
        }
      ],
      "source": [
        "# input a URL 5 times\n",
        "for i in range(5):\n",
        "  url = input()"
      ]
    },
    {
      "cell_type": "code",
      "execution_count": null,
      "metadata": {
        "colab": {
          "base_uri": "https://localhost:8080/"
        },
        "id": "j5C2DbKAX6HN",
        "outputId": "6364f024-c211-4fff-bc2e-26a1a247a1f7"
      },
      "outputs": [
        {
          "name": "stdout",
          "output_type": "stream",
          "text": [
            "Enter the URL: google.com\n",
            "iteration no :  1 is 1\n",
            "Enter the URL: sunil\n",
            "iteration no :  2 is 1\n",
            "Enter the URL: google.com\n",
            "iteration no :  3 is 2\n",
            "Enter the URL: google.com\n",
            "iteration no :  4 is 3\n",
            "Enter the URL: spineac.com\n",
            "iteration no :  5 is 3\n",
            "Google.com visited  3\n"
          ]
        }
      ],
      "source": [
        "# Print how many times google.com visited with itreation.\n",
        "count = 0\n",
        "for i in range(5):\n",
        "  url = input(\"Enter the URL: \")\n",
        "  if(url == 'google.com'):\n",
        "    count = count + 1\n",
        "  print(\"iteration no : \", i+1, \"is\", count)\n",
        "print(\"Google.com visited \",count)"
      ]
    },
    {
      "cell_type": "code",
      "execution_count": null,
      "metadata": {
        "colab": {
          "base_uri": "https://localhost:8080/"
        },
        "id": "GMM5soEHbu5e",
        "outputId": "59bdecf5-84dc-4178-9c5e-f138fb23b76c"
      },
      "outputs": [
        {
          "name": "stdout",
          "output_type": "stream",
          "text": [
            "Enter the URL: google.com\n",
            "iteration no :  1 is 1\n",
            "Enter the URL: sunil.com\n",
            "Enter the URL: google.com\n",
            "iteration no :  3 is 2\n",
            "Enter the URL: google.com\n",
            "iteration no :  4 is 3\n",
            "Enter the URL: sunil.com\n",
            "Google.com visited  3\n"
          ]
        }
      ],
      "source": [
        "# print iteration if only google.com visited\n",
        "count = 0\n",
        "for i in range(5):\n",
        "  url = input(\"Enter the URL: \")\n",
        "  if(url == 'google.com'):\n",
        "    count = count + 1\n",
        "    print(\"iteration no : \", i+1, \"is\", count)\n",
        "print(\"Google.com visited \",count)"
      ]
    },
    {
      "cell_type": "markdown",
      "metadata": {
        "id": "gG2YF3MC5KiH"
      },
      "source": [
        "###Day4 : Quiz"
      ]
    },
    {
      "cell_type": "code",
      "source": [
        "'''\n",
        "Q1 : Can you swap A & B\n",
        "\n",
        "Initial:\n",
        "A = 5\n",
        "B = 3\n",
        "\n",
        "End:\n",
        "A = 3\n",
        "B = 5\n",
        "'''\n",
        "\n",
        "A = 5\n",
        "B = 3\n",
        "\n",
        "print('new values:',A,B)\n",
        "\n",
        "temp = A #Created a duplicate of A = 5\n",
        "A = B #A now has B's value  | A = 3, B = 3\n",
        "B = temp #final step\n",
        "\n",
        "print('New values:', A,B)\n",
        "\n"
      ],
      "metadata": {
        "colab": {
          "base_uri": "https://localhost:8080/"
        },
        "id": "zgDKB1qY5FtS",
        "outputId": "47e43a13-1ff3-4d5d-838c-10dd1572a3b9"
      },
      "execution_count": null,
      "outputs": [
        {
          "output_type": "stream",
          "name": "stdout",
          "text": [
            "new values: 5 3\n",
            "New values: 3 5\n"
          ]
        }
      ]
    },
    {
      "cell_type": "code",
      "execution_count": null,
      "metadata": {
        "colab": {
          "base_uri": "https://localhost:8080/"
        },
        "id": "vG3rN7X05HmK",
        "outputId": "fd616a63-855d-472d-9594-5e42c30fb47c"
      },
      "outputs": [
        {
          "output_type": "stream",
          "name": "stdout",
          "text": [
            "Enter an Integer: 5\n",
            "Enter an Integer: 5\n",
            "Enter an Integer: 5\n",
            "Enter an Integer: 5\n",
            "Enter an Integer: 5\n",
            "25\n"
          ]
        }
      ],
      "source": [
        "#The user will give you 5 integers as an input. Use the input() function to capture it and write python code print the resultant sum.\n",
        "#Not correct\n",
        "sum = 0\n",
        "for i in range(5):\n",
        "  intr = int(input(\"Enter an Integer: \"))\n",
        "  sum = sum + intr\n",
        "\n",
        "print(sum)"
      ]
    },
    {
      "cell_type": "code",
      "execution_count": null,
      "metadata": {
        "colab": {
          "base_uri": "https://localhost:8080/"
        },
        "id": "se6L3n4z5M8t",
        "outputId": "05b8f9f3-46d6-4e16-9169-2e775df57d21"
      },
      "outputs": [
        {
          "name": "stdout",
          "output_type": "stream",
          "text": [
            "1\n",
            "2\n",
            "3\n",
            "4\n"
          ]
        }
      ],
      "source": [
        "for i in range(1,5):\n",
        "  print(i)"
      ]
    },
    {
      "cell_type": "markdown",
      "metadata": {
        "id": "jHEFC_Oa861x"
      },
      "source": [
        "Day 5: Find and Replace"
      ]
    },
    {
      "cell_type": "code",
      "execution_count": null,
      "metadata": {
        "colab": {
          "base_uri": "https://localhost:8080/"
        },
        "id": "yYY6gqlD-4Lj",
        "outputId": "7b314ec5-bed6-4fdb-aa6f-52e8e6f33a56"
      },
      "outputs": [
        {
          "name": "stdout",
          "output_type": "stream",
          "text": [
            "27\n"
          ]
        }
      ],
      "source": [
        "# Find the number of charecter 'a' exists in the below para.\n",
        "para = '''\n",
        "Wikis are enabled by wiki software, otherwise known as wiki engines. A wiki engine, being a form of a content management system, differs from other web-based systems such as blog software, in that the content is created without any defined owner or leader, and wikis have little inherent structure, allowing structure to emerge according to the needs of the users.[1] Wiki engines usually allow content to be written using a simplified markup language and sometimes edited with the help of a rich-text editor.\n",
        "'''\n",
        "count =0\n",
        "for p in range(len(para)):\n",
        "  i_num = para[p]\n",
        "  if(i_num=='a'):\n",
        "    count = count+1\n",
        "print(count)"
      ]
    },
    {
      "cell_type": "code",
      "execution_count": null,
      "metadata": {
        "colab": {
          "base_uri": "https://localhost:8080/"
        },
        "id": "lJEdgwSuBjgY",
        "outputId": "bfc84fde-ce5d-47c4-c0e7-d100692a22d8"
      },
      "outputs": [
        {
          "name": "stdout",
          "output_type": "stream",
          "text": [
            "\n",
            "Wikis $re en$bled by wiki softw$re, otherwise known $s wiki engines. A wiki engine, being $ form of $ content m$n$gement system, differs from other web-b$sed systems such $s blog softw$re, in th$t the content is cre$ted without $ny defined owner or le$der, $nd wikis h$ve little inherent structure, $llowing structure to emerge $ccording to the needs of the users.[1] Wiki engines usu$lly $llow content to be written using $ simplified m$rkup l$ngu$ge $nd sometimes edited with the help of $ rich-text editor.\n",
            "\n"
          ]
        }
      ],
      "source": [
        "# Find the charecter 'a' and replace with $ in the below para.\n",
        "para = '''\n",
        "Wikis are enabled by wiki software, otherwise known as wiki engines. A wiki engine, being a form of a content management system, differs from other web-based systems such as blog software, in that the content is created without any defined owner or leader, and wikis have little inherent structure, allowing structure to emerge according to the needs of the users.[1] Wiki engines usually allow content to be written using a simplified markup language and sometimes edited with the help of a rich-text editor.\n",
        "'''\n",
        "new_string = \"\"\n",
        "for p in range(len(para)):\n",
        "  i_num = para[p]\n",
        "  if(i_num=='a'):\n",
        "    new_string = new_string + \"$\"\n",
        "  else:\n",
        "    new_string = new_string + i_num\n",
        "print(new_string)"
      ]
    },
    {
      "cell_type": "markdown",
      "metadata": {
        "id": "EAWelBQexGtw"
      },
      "source": [
        "###User Defined Functions"
      ]
    },
    {
      "cell_type": "code",
      "execution_count": null,
      "metadata": {
        "id": "soD0LBhUxD1I"
      },
      "outputs": [],
      "source": [
        "# Create a calculator function with add, sub, multi, division functionalities.\n",
        "#return function stores the output somewhere. Insted of print we can use return.\n",
        "# Bulit in functions - print(), type()\n"
      ]
    },
    {
      "cell_type": "code",
      "execution_count": null,
      "metadata": {
        "colab": {
          "base_uri": "https://localhost:8080/"
        },
        "id": "gdNc_fLRxkrs",
        "outputId": "1e7d14b1-fcd8-4163-cce6-a0c8f63ada33"
      },
      "outputs": [
        {
          "data": {
            "text/plain": [
              "12"
            ]
          },
          "execution_count": 8,
          "metadata": {},
          "output_type": "execute_result"
        }
      ],
      "source": [
        "input1 = 6\n",
        "input2 = 2\n",
        "operator = 'add'\n",
        "\n",
        "def calculator(input1,input2,operator):\n",
        "\n",
        "  if(operator == 'add'):\n",
        "    result = input1 + input2\n",
        "  elif(operator == 'sub'):\n",
        "    result = input1 - input2\n",
        "  elif(operator == 'mul'):\n",
        "    result = input1 * input2\n",
        "  elif(operator == 'div'):\n",
        "    result = input1 / input2\n",
        "  else:\n",
        "    result = -9999999999\n",
        "    print(\"invalid result\")\n",
        "  #print(result)\n",
        "  return(result)\n",
        "\n",
        "calculator(10,2,'add')\n",
        "var1 = calculator(10,2,'add')"
      ]
    },
    {
      "cell_type": "markdown",
      "metadata": {
        "id": "pCvLoFlC1HDx"
      },
      "source": [
        "###Module and Packages"
      ]
    },
    {
      "cell_type": "markdown",
      "metadata": {
        "id": "dCjdRutk1uli"
      },
      "source": [
        "Modules are .py files.\n",
        "Can have multiple functions with in it.\n",
        "collection of functions.\n",
        "We can write in different styles.\n",
        "use wuth import"
      ]
    },
    {
      "cell_type": "code",
      "execution_count": null,
      "metadata": {
        "colab": {
          "base_uri": "https://localhost:8080/"
        },
        "id": "Y6U2yptZ25yu",
        "outputId": "c7260b11-397d-4e59-ff93-1fd1e391b71d"
      },
      "outputs": [
        {
          "name": "stdout",
          "output_type": "stream",
          "text": [
            "3.4641016151377544\n",
            "3.4641016151377544\n",
            "3.4641016151377544\n"
          ]
        }
      ],
      "source": [
        "#style 1\n",
        "import math\n",
        "print(math.sqrt(12))\n",
        "\n",
        "#Style 2\n",
        "from math import sqrt\n",
        "print(sqrt(12))\n",
        "\n",
        "#Style 3 - allias\n",
        "import math as m\n",
        "print(m.sqrt(12))\n"
      ]
    },
    {
      "cell_type": "markdown",
      "metadata": {
        "id": "fCqvRjpw3s63"
      },
      "source": [
        "##Packages\n",
        "collection of modules"
      ]
    },
    {
      "cell_type": "code",
      "execution_count": null,
      "metadata": {
        "colab": {
          "base_uri": "https://localhost:8080/",
          "height": 357
        },
        "id": "2GV2X8gE4JfW",
        "outputId": "4ecceb74-c7b3-4a41-c1ab-9e1c20ae146c"
      },
      "outputs": [
        {
          "ename": "ImportError",
          "evalue": "ignored",
          "output_type": "error",
          "traceback": [
            "\u001b[0;31m---------------------------------------------------------------------------\u001b[0m",
            "\u001b[0;31mImportError\u001b[0m                               Traceback (most recent call last)",
            "\u001b[0;32m<ipython-input-13-48f1ae701d5e>\u001b[0m in \u001b[0;36m<cell line: 1>\u001b[0;34m()\u001b[0m\n\u001b[0;32m----> 1\u001b[0;31m \u001b[0;32mfrom\u001b[0m \u001b[0msklearn\u001b[0m\u001b[0;34m.\u001b[0m\u001b[0msvm\u001b[0m \u001b[0;32mimport\u001b[0m \u001b[0msvc\u001b[0m\u001b[0;34m\u001b[0m\u001b[0;34m\u001b[0m\u001b[0m\n\u001b[0m\u001b[1;32m      2\u001b[0m \u001b[0;31m##from sklearn.tree import DecissionTreeClassifier\u001b[0m\u001b[0;34m\u001b[0m\u001b[0;34m\u001b[0m\u001b[0m\n",
            "\u001b[0;31mImportError\u001b[0m: cannot import name 'svc' from 'sklearn.svm' (/usr/local/lib/python3.10/dist-packages/sklearn/svm/__init__.py)",
            "",
            "\u001b[0;31m---------------------------------------------------------------------------\u001b[0;32m\nNOTE: If your import is failing due to a missing package, you can\nmanually install dependencies using either !pip or !apt.\n\nTo view examples of installing some common dependencies, click the\n\"Open Examples\" button below.\n\u001b[0;31m---------------------------------------------------------------------------\u001b[0m\n"
          ]
        }
      ],
      "source": [
        "from sklearn.svm import svc\n",
        "##from sklearn.tree import DecissionTreeClassifier"
      ]
    },
    {
      "cell_type": "code",
      "execution_count": null,
      "metadata": {
        "colab": {
          "base_uri": "https://localhost:8080/"
        },
        "id": "lA5tXxJN5B_X",
        "outputId": "ac547ef6-1304-449b-ab2a-d961cf7ff101"
      },
      "outputs": [
        {
          "data": {
            "text/plain": [
              "6"
            ]
          },
          "execution_count": 15,
          "metadata": {},
          "output_type": "execute_result"
        }
      ],
      "source": [
        "#Default parameter : without input any operator\n",
        "input1 = 6\n",
        "input2 = 2\n",
        "operator = 'add'\n",
        "\n",
        "def calculator(input1,input2,operator = 'add'): #here we need to define the default operator\n",
        "\n",
        "  if(operator == 'add'):\n",
        "    result = input1 + input2\n",
        "  elif(operator == 'sub'):\n",
        "    result = input1 - input2\n",
        "  elif(operator == 'mul'):\n",
        "    result = input1 * input2\n",
        "  elif(operator == 'div'):\n",
        "    result = input1 / input2\n",
        "  else:\n",
        "    result = -9999999999\n",
        "    print(\"invalid result\")\n",
        "  #print(result)\n",
        "  return(result)\n",
        "\n",
        "calculator(10,2,'add')\n",
        "var1 = calculator(10,2,'add')\n",
        "\n",
        "calculator(4,2)"
      ]
    },
    {
      "cell_type": "markdown",
      "metadata": {
        "id": "KVhOLoQiXsb_"
      },
      "source": [
        "###Day 6\n",
        "###Data Structures: List and Strings"
      ]
    },
    {
      "cell_type": "code",
      "execution_count": null,
      "metadata": {
        "colab": {
          "base_uri": "https://localhost:8080/"
        },
        "id": "oE1b9euiX4VU",
        "outputId": "28ad28c7-c251-4463-baea-c7816bc6c147"
      },
      "outputs": [
        {
          "name": "stdout",
          "output_type": "stream",
          "text": [
            "Marks:90\n",
            "Class Marks in iter  1   [90]\n",
            "Marks:99\n",
            "Class Marks in iter  2   [90, 99]\n",
            "Marks:66\n",
            "Class Marks in iter  3   [90, 99, 66]\n",
            "Marks:70\n",
            "Class Marks in iter  4   [90, 99, 66, 70]\n",
            "[90, 99, 66, 70]\n"
          ]
        }
      ],
      "source": [
        "from pickle import APPENDS\n",
        "#1. loop to record repetatively marks of different students adn strues it in a list.\n",
        "# will use append function to add each element.\n",
        "\n",
        "class_marks = []\n",
        "\n",
        "for i in range(4):\n",
        "  marks = int(input('Marks:'))\n",
        "  class_marks.append(marks)\n",
        "  print('Class Marks in iter ', i+1, ' ',7 class_marks)\n",
        "\n",
        "print(class_marks)"
      ]
    },
    {
      "cell_type": "code",
      "execution_count": null,
      "metadata": {
        "colab": {
          "base_uri": "https://localhost:8080/"
        },
        "id": "1bm_OghgZRc-",
        "outputId": "7da09d42-6055-4ccf-d33b-764b4c58705c"
      },
      "outputs": [
        {
          "name": "stdout",
          "output_type": "stream",
          "text": [
            "40\n"
          ]
        }
      ],
      "source": [
        "# Index : Location/position number of an element starts from 0.\n",
        "print(class_marks[1])"
      ]
    },
    {
      "cell_type": "code",
      "execution_count": null,
      "metadata": {
        "colab": {
          "base_uri": "https://localhost:8080/"
        },
        "id": "8S5kGYRlbGkM",
        "outputId": "94652a3e-a4d3-42ca-9ae5-3421f0621648"
      },
      "outputs": [
        {
          "name": "stdout",
          "output_type": "stream",
          "text": [
            "Style1\n",
            "90\n",
            "99\n",
            "66\n",
            "70\n",
            "Style2\n",
            "90\n",
            "99\n",
            "66\n",
            "70\n"
          ]
        }
      ],
      "source": [
        "#Access every element at each iteration / iterate through the list.\n",
        "#Style -1\n",
        "print('Style1')\n",
        "for i in range(len(class_marks)):\n",
        "  #i is indexing from 0 to list-length - 1\n",
        "  print(class_marks[i])\n",
        "\n",
        "#Style - 2\n",
        "print('Style2')\n",
        "for i in class_marks:\n",
        "  #i is directly iterating through the list.\n",
        "  print(i)"
      ]
    },
    {
      "cell_type": "code",
      "execution_count": null,
      "metadata": {
        "colab": {
          "base_uri": "https://localhost:8080/"
        },
        "id": "EPFA9VdHcvY_",
        "outputId": "91e8fbbe-3551-45d7-f41b-5d71daa2db13"
      },
      "outputs": [
        {
          "name": "stdout",
          "output_type": "stream",
          "text": [
            "[90, 99, 88, 70]\n",
            "Class Marks of 2:  88\n"
          ]
        }
      ],
      "source": [
        "# Update marks, by given index 2.\n",
        "class_marks[2] = class_marks[2] + 5\n",
        "print(class_marks)\n",
        "print(\"Class Marks of 2: \",class_marks[2])"
      ]
    },
    {
      "cell_type": "code",
      "execution_count": null,
      "metadata": {
        "colab": {
          "base_uri": "https://localhost:8080/"
        },
        "id": "I3CsP6MTeD6C",
        "outputId": "bbc65b9c-00d7-4979-9893-3e22d7322cd0"
      },
      "outputs": [
        {
          "name": "stdout",
          "output_type": "stream",
          "text": [
            "[70, 88, 90, 99]\n",
            "[99, 90, 88, 70]\n"
          ]
        }
      ],
      "source": [
        "# Few function on list.\n",
        "class_marks.sort()\n",
        "print(class_marks)\n",
        "\n",
        "class_marks.sort(reverse=True)\n",
        "print(class_marks)\n",
        "\n",
        "# Need to go through differnt functions in list like count() etc. Go through : https://www.w3schools.com/python/python_ref_list.asp"
      ]
    },
    {
      "cell_type": "markdown",
      "metadata": {
        "id": "QMXNLBsnfJZ6"
      },
      "source": [
        "##Strings"
      ]
    },
    {
      "cell_type": "code",
      "execution_count": null,
      "metadata": {
        "colab": {
          "base_uri": "https://localhost:8080/"
        },
        "id": "wW3dJo9pfLkx",
        "outputId": "06050390-9737-46f4-afea-096ef37353bb"
      },
      "outputs": [
        {
          "name": "stdout",
          "output_type": "stream",
          "text": [
            " \n",
            "A\n",
            " \n",
            "v\n",
            "e\n",
            "r\n",
            "y\n",
            " \n",
            "g\n",
            "o\n",
            "o\n",
            "d\n",
            "\n",
            "\n",
            "p\n",
            "e\n",
            "r\n",
            "s\n",
            "o\n",
            "n\n",
            ".\n",
            "\n",
            "\n",
            "Style2\n",
            " \n",
            "A\n",
            " \n",
            "v\n",
            "e\n",
            "r\n",
            "y\n",
            " \n",
            "g\n",
            "o\n",
            "o\n",
            "d\n",
            "\n",
            "\n",
            "p\n",
            "e\n",
            "r\n",
            "s\n",
            "o\n",
            "n\n",
            ".\n",
            "\n",
            "\n"
          ]
        }
      ],
      "source": [
        "strp = 'Sunil'\n",
        "str1 = \"Another\"\n",
        "str2 = ''' A very good\n",
        "person.\n",
        "'''\n",
        "#print each element in a perticular iteration.\n",
        "for i in str2:\n",
        "  print(i)\n",
        "\n",
        "#Style 2\n",
        "print('Style2')\n",
        "for i in range(len(str2)):\n",
        "  print(str2[i])"
      ]
    },
    {
      "cell_type": "code",
      "execution_count": null,
      "metadata": {
        "colab": {
          "base_uri": "https://localhost:8080/"
        },
        "id": "Wd45axaIgw8f",
        "outputId": "b9ac30e6-f05f-428e-c4c9-ed8b7ec0e27a"
      },
      "outputs": [
        {
          "data": {
            "text/plain": [
              "True"
            ]
          },
          "execution_count": 31,
          "metadata": {},
          "output_type": "execute_result"
        }
      ],
      "source": [
        "#String methods/function/operations\n",
        "#format : <string_name>.<function_name>(<arguments>)\n",
        "#More methos : https://www.w3schools.com/python/python_ref_string.asp\n",
        "txt = 'dkfce'\n",
        "txt.isalpha()\n",
        "\n"
      ]
    },
    {
      "cell_type": "code",
      "execution_count": null,
      "metadata": {
        "colab": {
          "base_uri": "https://localhost:8080/"
        },
        "id": "KPROHBROiQZZ",
        "outputId": "b3875f32-fcd8-494c-83db-e4b79761e7f2"
      },
      "outputs": [
        {
          "name": "stdout",
          "output_type": "stream",
          "text": [
            "Sunil#Sashank#Subrat\n"
          ]
        }
      ],
      "source": [
        "#Join function\n",
        "#you have a list of string and you want to join it together with a separator #.\n",
        "y = ['Sunil','Sashank','Subrat']\n",
        "x = '#'.join(y)\n",
        "print(x)"
      ]
    },
    {
      "cell_type": "code",
      "execution_count": null,
      "metadata": {
        "colab": {
          "base_uri": "https://localhost:8080/"
        },
        "id": "M7PqGzPLiYkS",
        "outputId": "5f6dd258-bc21-4186-e7d7-d0eaa5414e32"
      },
      "outputs": [
        {
          "name": "stdout",
          "output_type": "stream",
          "text": [
            "Sunil Pradhan\n"
          ]
        }
      ],
      "source": [
        "#Concatination function\n",
        "First_name = 'Sunil'\n",
        "Second_name = 'Pradhan'\n",
        "Full_Name = First_name +\" \"+ Second_name\n",
        "print(Full_Name)"
      ]
    },
    {
      "cell_type": "markdown",
      "metadata": {
        "id": "Nop48TYAjFYY"
      },
      "source": [
        "Strings are immutable.\n",
        "We can't do : first_name[2] = 'd'"
      ]
    },
    {
      "cell_type": "code",
      "execution_count": null,
      "metadata": {
        "colab": {
          "base_uri": "https://localhost:8080/"
        },
        "id": "24f3xm-vjVxM",
        "outputId": "c162c01e-729b-41d2-c51f-e31372e8bf2a"
      },
      "outputs": [
        {
          "name": "stdout",
          "output_type": "stream",
          "text": [
            "Sun\n",
            "Sun\n",
            "nil Pradhan\n"
          ]
        }
      ],
      "source": [
        "#Slicing : Choose a subset of a string.\n",
        "#<string_name>[start:end] : it will pick start to end-1\n",
        "print(Full_Name[0:3])\n",
        "print(Full_Name[:3]) #it takes from start. Takes everything from start to end-1\n",
        "print(Full_Name[2:]) # Takes everything from 2 to end."
      ]
    },
    {
      "cell_type": "markdown",
      "metadata": {
        "id": "Uf9e2ac6tC31"
      },
      "source": [
        "##Day7\n",
        "##Dictionary"
      ]
    },
    {
      "cell_type": "markdown",
      "metadata": {
        "id": "Uq_Lh49nt2I2"
      },
      "source": [
        ":Dict: Genralised form of a list.\n",
        "index (key) : typically str\n",
        "(string) -> (any data type)\n",
        "Also called hash key."
      ]
    },
    {
      "cell_type": "code",
      "execution_count": null,
      "metadata": {
        "colab": {
          "base_uri": "https://localhost:8080/"
        },
        "id": "H5jCF7Psuf9T",
        "outputId": "baddf625-8878-4bd2-9cfa-e1c5510a8b0e"
      },
      "outputs": [
        {
          "output_type": "stream",
          "name": "stdout",
          "text": [
            "Located in page 2\n",
            "[1, 2, 3]\n"
          ]
        }
      ],
      "source": [
        "'''\n",
        "<dict_name> = {\n",
        "  'key1' : value1,\n",
        "  'key2' : value2\n",
        "}'''\n",
        "\n",
        "d = {\n",
        "  'AlphaML' : 'Located in page 2',\n",
        "  'How do you do?' : 'Located in page 3'\n",
        "}\n",
        "\n",
        "print(d['AlphaML'])\n",
        "\n",
        "#Example 2\n",
        "d = {\n",
        "  'AlphaML' : [1,2,3],\n",
        "  'How do you do?' : 'Located in page 3'\n",
        "}\n",
        "\n",
        "print(d['AlphaML'])"
      ]
    },
    {
      "cell_type": "code",
      "execution_count": null,
      "metadata": {
        "colab": {
          "base_uri": "https://localhost:8080/"
        },
        "id": "6L5-mG5Qvm1l",
        "outputId": "e3c33763-f549-4f95-a74c-18a5e0a3b4a3"
      },
      "outputs": [
        {
          "output_type": "stream",
          "name": "stdout",
          "text": [
            "dict_keys(['AlphaML', 'How do you do?'])\n",
            "<class 'dict_keys'>\n"
          ]
        }
      ],
      "source": [
        "#How to find the key of a dictionary.\n",
        "print(d.keys())\n",
        "print(type(d.keys()))"
      ]
    },
    {
      "cell_type": "code",
      "source": [
        "#Iterate through dict through keys.\n",
        "for i in di.keys():\n",
        "  key = i\n",
        "  Value = d[key]\n",
        "  print(key,Value)"
      ],
      "metadata": {
        "colab": {
          "base_uri": "https://localhost:8080/"
        },
        "id": "qS8p-ZkLxbUQ",
        "outputId": "8d59ec29-f0e8-4f4d-9ce4-ec8a647e382c"
      },
      "execution_count": null,
      "outputs": [
        {
          "output_type": "stream",
          "name": "stdout",
          "text": [
            "AlphaML [1, 2, 3]\n",
            "How do you do? Located in page 3\n"
          ]
        }
      ]
    },
    {
      "cell_type": "code",
      "source": [
        "#Add something to dictionary.\n",
        "d['yo'] = [4,5,6]\n",
        "print(d)\n",
        "# By Default I have assign print = d which leds to error where I have used print satement. so avoid this!\n"
      ],
      "metadata": {
        "colab": {
          "base_uri": "https://localhost:8080/"
        },
        "id": "YXJDyIUe1dWs",
        "outputId": "b1b3565c-67f8-44fc-cb45-bed103a1c832"
      },
      "execution_count": null,
      "outputs": [
        {
          "output_type": "stream",
          "name": "stdout",
          "text": [
            "{'AlphaML': [1, 2, 3], 'How do you do?': 'Located in page 3', 'yo': [4, 5, 6]}\n"
          ]
        }
      ]
    },
    {
      "cell_type": "code",
      "source": [
        "del(print) # this solved"
      ],
      "metadata": {
        "id": "KPnJNty83lKu"
      },
      "execution_count": null,
      "outputs": []
    },
    {
      "cell_type": "code",
      "source": [
        "#set : not very useful\n",
        "this = {'Sunil','Sunil','Skp'}"
      ],
      "metadata": {
        "id": "T5xKD0og5dcZ"
      },
      "execution_count": null,
      "outputs": []
    },
    {
      "cell_type": "code",
      "source": [
        "#Tuple\n",
        "tup = ('Sunil',1,2,'Pradhan')"
      ],
      "metadata": {
        "id": "q8s_H_Sc5-EK"
      },
      "execution_count": null,
      "outputs": []
    },
    {
      "cell_type": "markdown",
      "source": [
        "##Operator\n",
        "Arithmatic Operators : +, -, /, *, %, **- Exponitition, //-floor division"
      ],
      "metadata": {
        "id": "-WRF8QBz6eWC"
      }
    },
    {
      "cell_type": "code",
      "source": [
        "x = 2 * 4\n",
        "print(x)\n",
        "\n",
        "y = 5 % 2\n",
        "print(y)\n",
        "\n",
        "#Checking Equality\n",
        "##  ==, <=,>=, !=\n",
        "\n",
        "\n",
        "if (x != 6):\n",
        "  print(y)\n",
        "else:\n",
        "  print(x)"
      ],
      "metadata": {
        "colab": {
          "base_uri": "https://localhost:8080/"
        },
        "id": "xEsJzBxa67Tr",
        "outputId": "45d280cb-ea85-4c4b-9768-f0170f01363e"
      },
      "execution_count": null,
      "outputs": [
        {
          "output_type": "stream",
          "name": "stdout",
          "text": [
            "8\n",
            "1\n",
            "1\n"
          ]
        }
      ]
    },
    {
      "cell_type": "code",
      "source": [
        "#Short-hand representatioon x = x * 2 and x *= 2 is the same operation\n",
        "x = x * 2\n",
        "x *= 2\n",
        "print(x)\n",
        "\n",
        "x /= 2\n",
        "\n",
        "print(x)"
      ],
      "metadata": {
        "colab": {
          "base_uri": "https://localhost:8080/"
        },
        "id": "K35mt9a2783T",
        "outputId": "6fb896b0-1f2d-4b76-8cfb-8e77e8bfe15d"
      },
      "execution_count": null,
      "outputs": [
        {
          "output_type": "stream",
          "name": "stdout",
          "text": [
            "256.0\n",
            "128.0\n"
          ]
        }
      ]
    },
    {
      "cell_type": "code",
      "source": [
        "# Logical Operators - and, or, not, in\n",
        "x = 3\n",
        "if ( x > 100 and x < 150):\n",
        "  print('yes')\n",
        "\n",
        "\n",
        "\n",
        "if ( x > 100 or x < 10):\n",
        "  print('yes')\n",
        "else:\n",
        "  print('No')\n"
      ],
      "metadata": {
        "colab": {
          "base_uri": "https://localhost:8080/"
        },
        "id": "wER2v33i8nIx",
        "outputId": "fcb2d231-24ba-4838-d659-638c75c57ce8"
      },
      "execution_count": null,
      "outputs": [
        {
          "output_type": "stream",
          "name": "stdout",
          "text": [
            "yes\n"
          ]
        }
      ]
    },
    {
      "cell_type": "code",
      "source": [
        "\n",
        "if (not(x==3)): #'not' Nagates the internal operators, mean true become false and false become true\n",
        "  print('yes')\n",
        "else:\n",
        "  print('no')"
      ],
      "metadata": {
        "colab": {
          "base_uri": "https://localhost:8080/"
        },
        "id": "TgoH_YcD-NZh",
        "outputId": "6193c7d0-3b77-4db6-a40e-d7d898e1352f"
      },
      "execution_count": null,
      "outputs": [
        {
          "output_type": "stream",
          "name": "stdout",
          "text": [
            "no\n"
          ]
        }
      ]
    },
    {
      "cell_type": "code",
      "source": [
        "#In Operator\n",
        "if ('a' in 'alibaba'):\n",
        "  print('true')\n",
        "\n",
        "if (10 in [1,2,3,4,5,6]):\n",
        "  print('true')\n",
        "else:\n",
        "  print('false')"
      ],
      "metadata": {
        "colab": {
          "base_uri": "https://localhost:8080/"
        },
        "id": "SFcIJS8H-jzJ",
        "outputId": "e460f35d-0607-4aa4-f0c7-5dec92899912"
      },
      "execution_count": null,
      "outputs": [
        {
          "output_type": "stream",
          "name": "stdout",
          "text": [
            "true\n",
            "false\n"
          ]
        }
      ]
    },
    {
      "cell_type": "markdown",
      "source": [
        "##Day 8 - Quiz 2"
      ],
      "metadata": {
        "id": "AY1Eg8sURg7K"
      }
    },
    {
      "cell_type": "markdown",
      "source": [
        "\"\"\"\n",
        "Write 3 functions, one for each operation:\n",
        "Input: List of strings\n",
        "Assume: The search elements exist atleast once in the list\n",
        "\"\"\""
      ],
      "metadata": {
        "id": "ZMHKCenYRlgw"
      }
    },
    {
      "cell_type": "code",
      "source": [
        "\"\"\"\n",
        "Given the input list and element to be found, return the index of the first occurance\n",
        "Input List = [\"hey\", \"how\", \"is\", \"hey\", \"you\", \"how\", \"are\", \"you\", \"hey\"]\n",
        "Search Element = \"you\"\n",
        "Output = 4\n",
        "\"\"\"\n",
        "\"\"\"def search(input_list, search_elem):\n",
        "  pass\"\"\"\n",
        "\n",
        "Input_List = [\"hey\", \"how\", \"is\", \"hey\", \"you\", \"how\", \"are\", \"you\", \"hey\"]\n",
        "\n",
        "for i in range(len(Input_List)):\n",
        "  if (Input_List[i] == 'you'):\n",
        "    index = i\n",
        "    break\n",
        "print(index)\n"
      ],
      "metadata": {
        "colab": {
          "base_uri": "https://localhost:8080/"
        },
        "id": "AmuZDcYBRkUr",
        "outputId": "c0a04bbc-3d72-4347-b388-8ae140ad6fd3"
      },
      "execution_count": null,
      "outputs": [
        {
          "output_type": "stream",
          "name": "stdout",
          "text": [
            "4\n"
          ]
        }
      ]
    },
    {
      "cell_type": "code",
      "source": [
        "\"\"\"\n",
        "Given the input list, count the number of elements equal to 'search_elem'\n",
        "Input List = [\"hey\", \"how\", \"is\", \"hey\", \"you\", \"how\", \"are\", \"you\", \"hey\"]\n",
        "Search Element = \"hey\"\n",
        "Output = 3\n",
        "\"\"\"\n",
        "'''def count(input_list, search_elem):\n",
        "  pass'''\n",
        "\n",
        "Input_List = [\"hey\", \"how\", \"is\", \"hey\", \"you\", \"how\", \"are\", \"you\", \"hey\"]\n",
        "cou = 0\n",
        "for i in range(len(Input_List)):\n",
        "  if(Input_List[i] == 'hey'):\n",
        "    cou = cou + 1\n",
        "print(cou)"
      ],
      "metadata": {
        "colab": {
          "base_uri": "https://localhost:8080/"
        },
        "id": "Ruf-zg13RsTI",
        "outputId": "0a8ebc81-9ec1-4932-e91f-e3e5746edaab"
      },
      "execution_count": null,
      "outputs": [
        {
          "output_type": "stream",
          "name": "stdout",
          "text": [
            "3\n"
          ]
        }
      ]
    },
    {
      "cell_type": "code",
      "source": [
        "\"\"\"\n",
        "Given the input list, and another list of search terms, return a dict with a list of their corresponding indices\n",
        "Input List = [\"hey\", \"how\", \"is\", \"hey\", \"you\", \"how\", \"are\", \"you\", \"hey\"]\n",
        "Search List = [\"hey\", \"you\"]\n",
        "Output Dict = {\n",
        "  \"hey\" : [0, 3, 8],\n",
        "  \"you\" : [4, 7]\n",
        "}\n",
        "\n",
        "Concept: Nested for loops -> One for loop inside another\n",
        "\"\"\"\n",
        "'''\n",
        "def search_location(input_list, search_list):\n",
        "  pass'''\n",
        "\n",
        "Input_List = [\"hey\", \"how\", \"is\", \"hey\", \"you\", \"how\", \"are\", \"you\", \"hey\"]\n",
        "hey_index = []\n",
        "you_index = []\n",
        "Output_Dict = {}\n",
        "for i in range(len(Input_List)):\n",
        "  if (Input_List[i] == 'hey'):\n",
        "    hey_index.append(i)\n",
        "for i in range(len(Input_List)):\n",
        "  if(Input_List[i] == 'you'):\n",
        "    you_index.append(i)\n",
        "\n",
        "Output_Dict['hey'] = hey_index\n",
        "Output_Dict['you'] = you_index\n",
        "\n",
        "print(Output_Dict)\n"
      ],
      "metadata": {
        "colab": {
          "base_uri": "https://localhost:8080/",
          "height": 53
        },
        "id": "PZ_Yjt8gRujr",
        "outputId": "be9b028d-eaec-466e-cebb-114e40c8545e"
      },
      "execution_count": null,
      "outputs": [
        {
          "output_type": "stream",
          "name": "stdout",
          "text": [
            "{'hey': [0, 3, 8], 'you': [4, 7]}\n"
          ]
        },
        {
          "output_type": "execute_result",
          "data": {
            "text/plain": [
              "'print(hey_index)\\nprint(you_index)\\nprint(Output_Dict)'"
            ],
            "application/vnd.google.colaboratory.intrinsic+json": {
              "type": "string"
            }
          },
          "metadata": {},
          "execution_count": 133
        }
      ]
    },
    {
      "cell_type": "markdown",
      "source": [
        "##Day8 - Classes\n",
        "Encapulation/Combination of functions and variables.\n"
      ],
      "metadata": {
        "id": "b2Sl2lEepJtA"
      }
    },
    {
      "cell_type": "code",
      "source": [
        "'''\n",
        "Syntax\n",
        "class <Class_name> ():\n",
        "  def __int__(self, <function_argu>):\n",
        "    self.<variable> = <function_arg>\n",
        "\n",
        "def method1 (self,<arg>):\n",
        "  pass\n",
        "\n",
        "#Class object instantiation.\n",
        "<object_name> = <Class_name>(<function_arg>)\n",
        "\n",
        "#If we want to store student names and age\n",
        "S1_name: 'Sunil'\n",
        "S1_age: 26\n",
        "\n",
        "s2_name = 'Sk'\n",
        "S2_age = 27\n",
        "\n",
        "\n",
        "#Self is used to reference attributed from the objects. Variables and func residec inside the object self.\n",
        "self.<variable_name>\n",
        "self.<function_name>.\n",
        "\n",
        "self --> is used to reference things which can be called as object.<thing>\n",
        "'''\n",
        "\n",
        "class student():\n",
        "  def __init__ (self,name,age):\n",
        "    self.name = name.  # Self is referencing to 'student'\n",
        "    self.age = age\n",
        "\n",
        "s1 = student('Sunil',26)\n",
        "s2 = student('Sk',27)\n",
        "\n",
        "print(s1.name,s1.age)\n",
        "print(s2.name,s2.age)\n"
      ],
      "metadata": {
        "colab": {
          "base_uri": "https://localhost:8080/"
        },
        "id": "QDQa5nIUpVeh",
        "outputId": "a0e4a04e-8920-4c80-c9a8-3b12b33455fa"
      },
      "execution_count": null,
      "outputs": [
        {
          "output_type": "stream",
          "name": "stdout",
          "text": [
            "Sunil 26\n",
            "Sk 27\n"
          ]
        }
      ]
    },
    {
      "cell_type": "code",
      "source": [
        "#Example -2\n",
        "class student():\n",
        "  def __init__ (self,name,age, score):\n",
        "    self.name = name\n",
        "    self.age = age\n",
        "    self.score = score\n",
        "\n",
        "  def convert_to_grade(self):\n",
        "    if(self.score>=30):\n",
        "      self.grade = 'Pass'\n",
        "    else:\n",
        "      self.grade = 'Fail'\n",
        "\n",
        "      #Update scode and map the score to grade.\n",
        "  def update_and_grading(self, new_score):\n",
        "    self.score = new_score\n",
        "    self.convert_to_grade()\n",
        "    self.determine_scholarship()\n",
        "    print(self.score,self.grade, self.scholarship)\n",
        "\n",
        "#Determine eligibility of scholarship\n",
        "  def determine_scholarship(self):\n",
        "    if(self.score > 90):\n",
        "      self.scholarship = True\n",
        "    else:\n",
        "      self.scholarship = False\n"
      ],
      "metadata": {
        "id": "uhTSD3sQZ1Mf"
      },
      "execution_count": null,
      "outputs": []
    },
    {
      "cell_type": "code",
      "source": [
        "s1 = student('Sunil',26, 29)\n",
        "\n",
        "print(s1.name,s1.age, s1.score)\n"
      ],
      "metadata": {
        "colab": {
          "base_uri": "https://localhost:8080/"
        },
        "id": "dvg_1IKLbfDZ",
        "outputId": "b0bb9e7c-7282-4a55-93a8-c63d3a38a611"
      },
      "execution_count": null,
      "outputs": [
        {
          "output_type": "stream",
          "name": "stdout",
          "text": [
            "Sunil 26 29\n"
          ]
        }
      ]
    },
    {
      "cell_type": "code",
      "source": [
        "s1.convert_to_grade()\n",
        "print(s1.grade)"
      ],
      "metadata": {
        "colab": {
          "base_uri": "https://localhost:8080/"
        },
        "id": "7RdzxBC4cHDK",
        "outputId": "445e4950-76fb-4462-bc52-76b1ef6deb69"
      },
      "execution_count": null,
      "outputs": [
        {
          "output_type": "stream",
          "name": "stdout",
          "text": [
            "Fail\n"
          ]
        }
      ]
    },
    {
      "cell_type": "code",
      "source": [
        "#Traditional way of updating internal attribute in class.\n",
        "s1.score = 70\n",
        "print(s1.score)"
      ],
      "metadata": {
        "colab": {
          "base_uri": "https://localhost:8080/"
        },
        "id": "MbhCt640c7zM",
        "outputId": "80816632-ac12-497f-8e32-8bf2790add7d"
      },
      "execution_count": null,
      "outputs": [
        {
          "output_type": "stream",
          "name": "stdout",
          "text": [
            "70\n"
          ]
        }
      ]
    },
    {
      "cell_type": "code",
      "source": [
        "s1.update_and_grading(91)"
      ],
      "metadata": {
        "colab": {
          "base_uri": "https://localhost:8080/"
        },
        "id": "kdoHS_5ZeayY",
        "outputId": "6ee0daa9-ac64-44f1-b020-72cc4133c08e"
      },
      "execution_count": null,
      "outputs": [
        {
          "output_type": "stream",
          "name": "stdout",
          "text": [
            "91 Pass True\n"
          ]
        }
      ]
    },
    {
      "cell_type": "code",
      "source": [
        "s1. scholarship"
      ],
      "metadata": {
        "colab": {
          "base_uri": "https://localhost:8080/"
        },
        "id": "jFPJ5-TRgizq",
        "outputId": "dc908b93-3b54-46a8-c39d-1739aed4bfb1"
      },
      "execution_count": null,
      "outputs": [
        {
          "output_type": "execute_result",
          "data": {
            "text/plain": [
              "True"
            ]
          },
          "metadata": {},
          "execution_count": 34
        }
      ]
    },
    {
      "cell_type": "markdown",
      "source": [
        "##Inheritance"
      ],
      "metadata": {
        "id": "F9Nisxd-g2Oy"
      }
    },
    {
      "cell_type": "code",
      "source": [
        "'''\n",
        "inheritance --> whatever properties have been defined in the privious class that has been inherited here. Here studet is the parent class and alumni is the child class.\n",
        "\n",
        "class <child_class_name>(<parent_class_name>):\n",
        "  def __init__ (self, name):\n",
        "    pass\n",
        "\n",
        "  def method1 (self):\n",
        "    pass\n",
        "    '''\n",
        "\n",
        "class alumni(student):\n",
        "  def __init__(self,name,age, score, year):\n",
        "    student.__init__(self, name, age, score)\n",
        "    self.graduation_year = year\n",
        "\n",
        "#Another way of writing:\n",
        "class alumni(student):\n",
        "  def __init__(self,name,age, score, year):\n",
        "    super().__init__(name, age, score)  # people also write in different way, only you need to remove super after __init__ --> super().__init__(self, name, age, score)\n",
        "    self.graduation_year = year\n"
      ],
      "metadata": {
        "id": "4sXlYt0XhB0R"
      },
      "execution_count": null,
      "outputs": []
    },
    {
      "cell_type": "code",
      "source": [
        "a = alumni('Rohit', 29, 88)\n",
        "print(a.name)"
      ],
      "metadata": {
        "colab": {
          "base_uri": "https://localhost:8080/"
        },
        "id": "IdTfGsIzidPv",
        "outputId": "76609cc0-a69a-415d-ffd6-42e5a97db8b3"
      },
      "execution_count": null,
      "outputs": [
        {
          "output_type": "stream",
          "name": "stdout",
          "text": [
            "2022\n"
          ]
        }
      ]
    },
    {
      "cell_type": "code",
      "source": [
        "a.convert_to_grade()\n",
        "print(a.grade)"
      ],
      "metadata": {
        "colab": {
          "base_uri": "https://localhost:8080/"
        },
        "id": "0yHDTwbHi1J-",
        "outputId": "448acfd1-a1de-4bb9-a7b8-fa61c01f748f"
      },
      "execution_count": null,
      "outputs": [
        {
          "output_type": "stream",
          "name": "stdout",
          "text": [
            "Pass\n"
          ]
        }
      ]
    },
    {
      "cell_type": "code",
      "source": [
        "a = alumni('Rohit', 29, 88, 2022)\n",
        "print(a.graduation_year)"
      ],
      "metadata": {
        "colab": {
          "base_uri": "https://localhost:8080/"
        },
        "id": "u8J8nk8Wj3EQ",
        "outputId": "4cf4e055-dead-4f86-90b9-968d4fee5626"
      },
      "execution_count": null,
      "outputs": [
        {
          "output_type": "stream",
          "name": "stdout",
          "text": [
            "2022\n"
          ]
        }
      ]
    },
    {
      "cell_type": "markdown",
      "source": [
        "###Day 9 - Math - Linear Algebra"
      ],
      "metadata": {
        "id": "Hl2JPSjW6ktf"
      }
    },
    {
      "cell_type": "markdown",
      "source": [
        "Some buzz words:\n",
        "Vector - magnetude & direction\n",
        "\n",
        "Eucliedean Distance (L2 Norms)- Distance between the origin point and present point. the squre root of the subtraction.\n",
        "This is also called magnetude of the vector.\n",
        "\n",
        "* Magnetude of vector - Eucledian Distance\n",
        "\n",
        "\n",
        "Magnetude - any vector on x axis : scaler * i^(i hat)\n",
        "            any vector on y axis : scaler * j^(j hat)\n",
        "            scaler is the magnetude. Ex - if I wanted to move in x direction by 2 points and my i^ is vertical vector of 1,0. then my scaler would be 2 * [1,0](vertical vector).\n",
        "\n",
        "            * Scaler genrally streches the vector or squches the vector.\n",
        "            Generally i^ = [1,0](Vertical vector), J^ = [0,1](Vertical vector)\n",
        "\n",
        "\n",
        "Basis vector -->\n",
        "            i^ and j^ --> no vector can be obtrained from one to another. these 2 are independent non-redundent which gives 2 different directions.\n",
        "            These are called linearly independent vector.\n",
        "\n",
        "            * If we need to capture all the space in a plot, we need n vectors which are completely non redundent with each other. so one vector can't be derive from another.\n",
        "\n",
        "\n"
      ],
      "metadata": {
        "id": "NZIXBXE160qA"
      }
    },
    {
      "cell_type": "markdown",
      "source": [
        "##Day11: Transformation"
      ],
      "metadata": {
        "id": "ZOUbByay3sdq"
      }
    },
    {
      "cell_type": "markdown",
      "source": [
        "## Nov 23 : Intro To SKlearn"
      ],
      "metadata": {
        "id": "4o14iPw2kafm"
      }
    },
    {
      "cell_type": "code",
      "source": [
        "#Loding of relevent modules\n",
        "#Documentation https://scikit-learn.org/stable/getting_started.html\n",
        "from sklearn.ensemble import RandomForestClassifier\n",
        "from sklearn.preprocessing import StandardScaler"
      ],
      "metadata": {
        "id": "otgQo8Vikim8"
      },
      "execution_count": null,
      "outputs": []
    },
    {
      "cell_type": "code",
      "source": [
        "#Data\n",
        "#Loading/reading, Pre-Processing, Preparation\n",
        "x = [[1,2,3],\n",
        "     [11,12,13]] # 2 smaples, 3 features. --> Input\n",
        "y = [0,1] #Classes of each sample  --> Ground Truth\n",
        "\n",
        "\n",
        "\n",
        "\n"
      ],
      "metadata": {
        "id": "TJAWpKbTk9w8"
      },
      "execution_count": null,
      "outputs": []
    },
    {
      "cell_type": "code",
      "source": [
        "#Model_Dev\n",
        "clf = RandomForestClassifier(random_state = 0) #Model defination state\n",
        "clf.fit(x,y) #model learning step\n",
        "\n",
        "# Algos behind this fit - Loss functions/cost function, gridient descent\n",
        "\n",
        "#standardscaler() brings all features from the range of (1 to -1) or (0,1). -- both are correct\n",
        "#StandardScaler -> [-1,1]\n",
        "#MinMaxScaler -> [0,1]\n",
        "X = StandardScaler().fit(x).transform(x)\n",
        "\n",
        "print(X)"
      ],
      "metadata": {
        "colab": {
          "base_uri": "https://localhost:8080/"
        },
        "id": "OlVkjqcGnVXE",
        "outputId": "e17b6302-f265-42e2-fef6-77e5fec2cc1e"
      },
      "execution_count": null,
      "outputs": [
        {
          "output_type": "stream",
          "name": "stdout",
          "text": [
            "[[-1. -1. -1.]\n",
            " [ 1.  1.  1.]]\n"
          ]
        }
      ]
    },
    {
      "cell_type": "code",
      "source": [
        "#Evaluation\n",
        "#Qualitative/Quantitative\n",
        "\n",
        "print(clf.predict(x)) #Predict classes of the training data\n",
        "print(clf.predict([[4,5,6],[14,15,16]])) #Predict classes of the testing data"
      ],
      "metadata": {
        "colab": {
          "base_uri": "https://localhost:8080/"
        },
        "id": "vbQujYpUnXbT",
        "outputId": "35155a1b-895b-4f6a-e990-ec9ed548b042"
      },
      "execution_count": null,
      "outputs": [
        {
          "output_type": "stream",
          "name": "stdout",
          "text": [
            "[0 1]\n",
            "[0 1]\n"
          ]
        }
      ]
    },
    {
      "cell_type": "code",
      "source": [
        "from sklearn.preprocessing import StandardScaler\n",
        "from sklearn.linear_model import LogisticRegression\n",
        "from sklearn.pipeline import make_pipeline\n",
        "from sklearn.datasets import load_iris\n",
        "from sklearn.model_selection import train_test_split\n",
        "from sklearn.metrics import accuracy_score"
      ],
      "metadata": {
        "id": "zXnjHqzxtFjr"
      },
      "execution_count": null,
      "outputs": []
    },
    {
      "cell_type": "code",
      "source": [
        "# load the iris dataset and split it into train and test sets\n",
        "X, y = load_iris(return_X_y=True)\n",
        "X_train, X_test, y_train, y_test = train_test_split(X, y, random_state=0)"
      ],
      "metadata": {
        "id": "UhUUrIJRtwKk"
      },
      "execution_count": null,
      "outputs": []
    },
    {
      "cell_type": "code",
      "source": [
        " # create a pipeline object\n",
        "pipe = make_pipeline(\n",
        "    StandardScaler(),\n",
        "    LogisticRegression()\n",
        " )"
      ],
      "metadata": {
        "id": "UcHIs96Dty17"
      },
      "execution_count": null,
      "outputs": []
    },
    {
      "cell_type": "code",
      "source": [
        "# fit the whole pipeline\n",
        "pipe.fit(X_train, y_train)\n"
      ],
      "metadata": {
        "colab": {
          "base_uri": "https://localhost:8080/",
          "height": 172
        },
        "id": "Asb9Tl5IuSTw",
        "outputId": "a30f3418-93d2-4b8b-e74d-8d202948dce8"
      },
      "execution_count": null,
      "outputs": [
        {
          "output_type": "execute_result",
          "data": {
            "text/plain": [
              "Pipeline(steps=[('standardscaler', StandardScaler()),\n",
              "                ('logisticregression', LogisticRegression())])"
            ],
            "text/html": [
              "<style>#sk-container-id-2 {color: black;background-color: white;}#sk-container-id-2 pre{padding: 0;}#sk-container-id-2 div.sk-toggleable {background-color: white;}#sk-container-id-2 label.sk-toggleable__label {cursor: pointer;display: block;width: 100%;margin-bottom: 0;padding: 0.3em;box-sizing: border-box;text-align: center;}#sk-container-id-2 label.sk-toggleable__label-arrow:before {content: \"▸\";float: left;margin-right: 0.25em;color: #696969;}#sk-container-id-2 label.sk-toggleable__label-arrow:hover:before {color: black;}#sk-container-id-2 div.sk-estimator:hover label.sk-toggleable__label-arrow:before {color: black;}#sk-container-id-2 div.sk-toggleable__content {max-height: 0;max-width: 0;overflow: hidden;text-align: left;background-color: #f0f8ff;}#sk-container-id-2 div.sk-toggleable__content pre {margin: 0.2em;color: black;border-radius: 0.25em;background-color: #f0f8ff;}#sk-container-id-2 input.sk-toggleable__control:checked~div.sk-toggleable__content {max-height: 200px;max-width: 100%;overflow: auto;}#sk-container-id-2 input.sk-toggleable__control:checked~label.sk-toggleable__label-arrow:before {content: \"▾\";}#sk-container-id-2 div.sk-estimator input.sk-toggleable__control:checked~label.sk-toggleable__label {background-color: #d4ebff;}#sk-container-id-2 div.sk-label input.sk-toggleable__control:checked~label.sk-toggleable__label {background-color: #d4ebff;}#sk-container-id-2 input.sk-hidden--visually {border: 0;clip: rect(1px 1px 1px 1px);clip: rect(1px, 1px, 1px, 1px);height: 1px;margin: -1px;overflow: hidden;padding: 0;position: absolute;width: 1px;}#sk-container-id-2 div.sk-estimator {font-family: monospace;background-color: #f0f8ff;border: 1px dotted black;border-radius: 0.25em;box-sizing: border-box;margin-bottom: 0.5em;}#sk-container-id-2 div.sk-estimator:hover {background-color: #d4ebff;}#sk-container-id-2 div.sk-parallel-item::after {content: \"\";width: 100%;border-bottom: 1px solid gray;flex-grow: 1;}#sk-container-id-2 div.sk-label:hover label.sk-toggleable__label {background-color: #d4ebff;}#sk-container-id-2 div.sk-serial::before {content: \"\";position: absolute;border-left: 1px solid gray;box-sizing: border-box;top: 0;bottom: 0;left: 50%;z-index: 0;}#sk-container-id-2 div.sk-serial {display: flex;flex-direction: column;align-items: center;background-color: white;padding-right: 0.2em;padding-left: 0.2em;position: relative;}#sk-container-id-2 div.sk-item {position: relative;z-index: 1;}#sk-container-id-2 div.sk-parallel {display: flex;align-items: stretch;justify-content: center;background-color: white;position: relative;}#sk-container-id-2 div.sk-item::before, #sk-container-id-2 div.sk-parallel-item::before {content: \"\";position: absolute;border-left: 1px solid gray;box-sizing: border-box;top: 0;bottom: 0;left: 50%;z-index: -1;}#sk-container-id-2 div.sk-parallel-item {display: flex;flex-direction: column;z-index: 1;position: relative;background-color: white;}#sk-container-id-2 div.sk-parallel-item:first-child::after {align-self: flex-end;width: 50%;}#sk-container-id-2 div.sk-parallel-item:last-child::after {align-self: flex-start;width: 50%;}#sk-container-id-2 div.sk-parallel-item:only-child::after {width: 0;}#sk-container-id-2 div.sk-dashed-wrapped {border: 1px dashed gray;margin: 0 0.4em 0.5em 0.4em;box-sizing: border-box;padding-bottom: 0.4em;background-color: white;}#sk-container-id-2 div.sk-label label {font-family: monospace;font-weight: bold;display: inline-block;line-height: 1.2em;}#sk-container-id-2 div.sk-label-container {text-align: center;}#sk-container-id-2 div.sk-container {/* jupyter's `normalize.less` sets `[hidden] { display: none; }` but bootstrap.min.css set `[hidden] { display: none !important; }` so we also need the `!important` here to be able to override the default hidden behavior on the sphinx rendered scikit-learn.org. See: https://github.com/scikit-learn/scikit-learn/issues/21755 */display: inline-block !important;position: relative;}#sk-container-id-2 div.sk-text-repr-fallback {display: none;}</style><div id=\"sk-container-id-2\" class=\"sk-top-container\"><div class=\"sk-text-repr-fallback\"><pre>Pipeline(steps=[(&#x27;standardscaler&#x27;, StandardScaler()),\n",
              "                (&#x27;logisticregression&#x27;, LogisticRegression())])</pre><b>In a Jupyter environment, please rerun this cell to show the HTML representation or trust the notebook. <br />On GitHub, the HTML representation is unable to render, please try loading this page with nbviewer.org.</b></div><div class=\"sk-container\" hidden><div class=\"sk-item sk-dashed-wrapped\"><div class=\"sk-label-container\"><div class=\"sk-label sk-toggleable\"><input class=\"sk-toggleable__control sk-hidden--visually\" id=\"sk-estimator-id-2\" type=\"checkbox\" ><label for=\"sk-estimator-id-2\" class=\"sk-toggleable__label sk-toggleable__label-arrow\">Pipeline</label><div class=\"sk-toggleable__content\"><pre>Pipeline(steps=[(&#x27;standardscaler&#x27;, StandardScaler()),\n",
              "                (&#x27;logisticregression&#x27;, LogisticRegression())])</pre></div></div></div><div class=\"sk-serial\"><div class=\"sk-item\"><div class=\"sk-estimator sk-toggleable\"><input class=\"sk-toggleable__control sk-hidden--visually\" id=\"sk-estimator-id-3\" type=\"checkbox\" ><label for=\"sk-estimator-id-3\" class=\"sk-toggleable__label sk-toggleable__label-arrow\">StandardScaler</label><div class=\"sk-toggleable__content\"><pre>StandardScaler()</pre></div></div></div><div class=\"sk-item\"><div class=\"sk-estimator sk-toggleable\"><input class=\"sk-toggleable__control sk-hidden--visually\" id=\"sk-estimator-id-4\" type=\"checkbox\" ><label for=\"sk-estimator-id-4\" class=\"sk-toggleable__label sk-toggleable__label-arrow\">LogisticRegression</label><div class=\"sk-toggleable__content\"><pre>LogisticRegression()</pre></div></div></div></div></div></div></div>"
            ]
          },
          "metadata": {},
          "execution_count": 25
        }
      ]
    },
    {
      "cell_type": "code",
      "source": [
        "accuracy_score(pipe.predict(X_test), y_test)"
      ],
      "metadata": {
        "colab": {
          "base_uri": "https://localhost:8080/"
        },
        "id": "iiVb4-3cu2Hj",
        "outputId": "0e0de5ee-d39a-4add-d107-fa5be24eb292"
      },
      "execution_count": null,
      "outputs": [
        {
          "output_type": "execute_result",
          "data": {
            "text/plain": [
              "0.9736842105263158"
            ]
          },
          "metadata": {},
          "execution_count": 26
        }
      ]
    },
    {
      "cell_type": "code",
      "source": [
        "#trying out other algo\n",
        "from sklearn import svm\n",
        "\n",
        "from sklearn.model_selection import cross_validate\n",
        "# load the iris dataset and split it into train and test sets\n",
        "X, y = load_iris(return_X_y=True)\n",
        "X_train, X_test, y_train, y_test = train_test_split(X, y, random_state=0)\n",
        "\n",
        "\n",
        " # create a pipeline object\n",
        "pipe = make_pipeline(\n",
        "    StandardScaler(),\n",
        "    svm.SVC()\n",
        " )\n",
        "\n",
        "\n",
        "# fit the whole pipeline\n",
        "pipe.fit(X_train, y_train)\n",
        "\n",
        "\n",
        "accuracy_score(pipe.predict(X_test), y_test)\n"
      ],
      "metadata": {
        "colab": {
          "base_uri": "https://localhost:8080/"
        },
        "id": "7gskFRliwcj4",
        "outputId": "21dea0e2-e806-416d-d8b7-996dd44987a8"
      },
      "execution_count": null,
      "outputs": [
        {
          "output_type": "execute_result",
          "data": {
            "text/plain": [
              "0.9736842105263158"
            ]
          },
          "metadata": {},
          "execution_count": 30
        }
      ]
    },
    {
      "cell_type": "code",
      "source": [
        "#Cross Validation\n",
        "from sklearn.model_selection import cross_validate\n",
        "# load the iris dataset and split it into train and test sets\n",
        "X, y = load_iris(return_X_y=True)\n",
        "#X_train, X_test, y_train, y_test = train_test_split(X, y, random_state=0)\n",
        "\n",
        "\n",
        " # create a pipeline object\n",
        "pipe = make_pipeline(\n",
        "    StandardScaler(),\n",
        "    svm.SVC()\n",
        " )\n",
        "\n",
        "\n",
        "# fit the whole pipeline\n",
        "#pipe.fit(X_train, y_train)\n",
        "result = cross_validate(pipe,X,y) #Pre-processing + .fit()+.predict + accurecy scopre\n",
        "print(result['test_score'])\n",
        "\n",
        "##accuracy_score(pipe.predict(X_test), y_test)\n"
      ],
      "metadata": {
        "colab": {
          "base_uri": "https://localhost:8080/"
        },
        "id": "gioXs8m0zeAE",
        "outputId": "8bb333f3-8f6f-476a-db86-0278327c6d9b"
      },
      "execution_count": null,
      "outputs": [
        {
          "output_type": "stream",
          "name": "stdout",
          "text": [
            "[0.96666667 0.96666667 0.96666667 0.93333333 1.        ]\n"
          ]
        }
      ]
    },
    {
      "cell_type": "markdown",
      "source": [
        "##Hyper-Parameter Tuining : SearchCV"
      ],
      "metadata": {
        "id": "_kZgQh171c_t"
      }
    },
    {
      "cell_type": "markdown",
      "source": [
        "## Nov 24 2023 : Linear Regressor on Diabetes Data Set\n"
      ],
      "metadata": {
        "id": "PIPT9mm3zkeH"
      }
    },
    {
      "cell_type": "code",
      "source": [
        "from sklearn.linear_model import LinearRegression\n",
        "from sklearn.datasets import load_diabetes\n",
        "from matplotlib import pyplot as plt\n",
        "from sklearn.model_selection import train_test_split\n",
        "from sklearn.metrics import r2_score,mean_squared_error"
      ],
      "metadata": {
        "id": "9kl1dYkxzy5o"
      },
      "execution_count": 22,
      "outputs": []
    },
    {
      "cell_type": "code",
      "source": [
        "data_set = load_diabetes()\n",
        "print(data_set)"
      ],
      "metadata": {
        "colab": {
          "base_uri": "https://localhost:8080/"
        },
        "id": "EJ8q4fov0eFy",
        "outputId": "280cebdc-9401-483a-db0a-cdcd9b4ad215"
      },
      "execution_count": 3,
      "outputs": [
        {
          "output_type": "stream",
          "name": "stdout",
          "text": [
            "{'data': array([[ 0.03807591,  0.05068012,  0.06169621, ..., -0.00259226,\n",
            "         0.01990749, -0.01764613],\n",
            "       [-0.00188202, -0.04464164, -0.05147406, ..., -0.03949338,\n",
            "        -0.06833155, -0.09220405],\n",
            "       [ 0.08529891,  0.05068012,  0.04445121, ..., -0.00259226,\n",
            "         0.00286131, -0.02593034],\n",
            "       ...,\n",
            "       [ 0.04170844,  0.05068012, -0.01590626, ..., -0.01107952,\n",
            "        -0.04688253,  0.01549073],\n",
            "       [-0.04547248, -0.04464164,  0.03906215, ...,  0.02655962,\n",
            "         0.04452873, -0.02593034],\n",
            "       [-0.04547248, -0.04464164, -0.0730303 , ..., -0.03949338,\n",
            "        -0.00422151,  0.00306441]]), 'target': array([151.,  75., 141., 206., 135.,  97., 138.,  63., 110., 310., 101.,\n",
            "        69., 179., 185., 118., 171., 166., 144.,  97., 168.,  68.,  49.,\n",
            "        68., 245., 184., 202., 137.,  85., 131., 283., 129.,  59., 341.,\n",
            "        87.,  65., 102., 265., 276., 252.,  90., 100.,  55.,  61.,  92.,\n",
            "       259.,  53., 190., 142.,  75., 142., 155., 225.,  59., 104., 182.,\n",
            "       128.,  52.,  37., 170., 170.,  61., 144.,  52., 128.,  71., 163.,\n",
            "       150.,  97., 160., 178.,  48., 270., 202., 111.,  85.,  42., 170.,\n",
            "       200., 252., 113., 143.,  51.,  52., 210.,  65., 141.,  55., 134.,\n",
            "        42., 111.,  98., 164.,  48.,  96.,  90., 162., 150., 279.,  92.,\n",
            "        83., 128., 102., 302., 198.,  95.,  53., 134., 144., 232.,  81.,\n",
            "       104.,  59., 246., 297., 258., 229., 275., 281., 179., 200., 200.,\n",
            "       173., 180.,  84., 121., 161.,  99., 109., 115., 268., 274., 158.,\n",
            "       107.,  83., 103., 272.,  85., 280., 336., 281., 118., 317., 235.,\n",
            "        60., 174., 259., 178., 128.,  96., 126., 288.,  88., 292.,  71.,\n",
            "       197., 186.,  25.,  84.,  96., 195.,  53., 217., 172., 131., 214.,\n",
            "        59.,  70., 220., 268., 152.,  47.,  74., 295., 101., 151., 127.,\n",
            "       237., 225.,  81., 151., 107.,  64., 138., 185., 265., 101., 137.,\n",
            "       143., 141.,  79., 292., 178.,  91., 116.,  86., 122.,  72., 129.,\n",
            "       142.,  90., 158.,  39., 196., 222., 277.,  99., 196., 202., 155.,\n",
            "        77., 191.,  70.,  73.,  49.,  65., 263., 248., 296., 214., 185.,\n",
            "        78.,  93., 252., 150.,  77., 208.,  77., 108., 160.,  53., 220.,\n",
            "       154., 259.,  90., 246., 124.,  67.,  72., 257., 262., 275., 177.,\n",
            "        71.,  47., 187., 125.,  78.,  51., 258., 215., 303., 243.,  91.,\n",
            "       150., 310., 153., 346.,  63.,  89.,  50.,  39., 103., 308., 116.,\n",
            "       145.,  74.,  45., 115., 264.,  87., 202., 127., 182., 241.,  66.,\n",
            "        94., 283.,  64., 102., 200., 265.,  94., 230., 181., 156., 233.,\n",
            "        60., 219.,  80.,  68., 332., 248.,  84., 200.,  55.,  85.,  89.,\n",
            "        31., 129.,  83., 275.,  65., 198., 236., 253., 124.,  44., 172.,\n",
            "       114., 142., 109., 180., 144., 163., 147.,  97., 220., 190., 109.,\n",
            "       191., 122., 230., 242., 248., 249., 192., 131., 237.,  78., 135.,\n",
            "       244., 199., 270., 164.,  72.,  96., 306.,  91., 214.,  95., 216.,\n",
            "       263., 178., 113., 200., 139., 139.,  88., 148.,  88., 243.,  71.,\n",
            "        77., 109., 272.,  60.,  54., 221.,  90., 311., 281., 182., 321.,\n",
            "        58., 262., 206., 233., 242., 123., 167.,  63., 197.,  71., 168.,\n",
            "       140., 217., 121., 235., 245.,  40.,  52., 104., 132.,  88.,  69.,\n",
            "       219.,  72., 201., 110.,  51., 277.,  63., 118.,  69., 273., 258.,\n",
            "        43., 198., 242., 232., 175.,  93., 168., 275., 293., 281.,  72.,\n",
            "       140., 189., 181., 209., 136., 261., 113., 131., 174., 257.,  55.,\n",
            "        84.,  42., 146., 212., 233.,  91., 111., 152., 120.,  67., 310.,\n",
            "        94., 183.,  66., 173.,  72.,  49.,  64.,  48., 178., 104., 132.,\n",
            "       220.,  57.]), 'frame': None, 'DESCR': '.. _diabetes_dataset:\\n\\nDiabetes dataset\\n----------------\\n\\nTen baseline variables, age, sex, body mass index, average blood\\npressure, and six blood serum measurements were obtained for each of n =\\n442 diabetes patients, as well as the response of interest, a\\nquantitative measure of disease progression one year after baseline.\\n\\n**Data Set Characteristics:**\\n\\n  :Number of Instances: 442\\n\\n  :Number of Attributes: First 10 columns are numeric predictive values\\n\\n  :Target: Column 11 is a quantitative measure of disease progression one year after baseline\\n\\n  :Attribute Information:\\n      - age     age in years\\n      - sex\\n      - bmi     body mass index\\n      - bp      average blood pressure\\n      - s1      tc, total serum cholesterol\\n      - s2      ldl, low-density lipoproteins\\n      - s3      hdl, high-density lipoproteins\\n      - s4      tch, total cholesterol / HDL\\n      - s5      ltg, possibly log of serum triglycerides level\\n      - s6      glu, blood sugar level\\n\\nNote: Each of these 10 feature variables have been mean centered and scaled by the standard deviation times the square root of `n_samples` (i.e. the sum of squares of each column totals 1).\\n\\nSource URL:\\nhttps://www4.stat.ncsu.edu/~boos/var.select/diabetes.html\\n\\nFor more information see:\\nBradley Efron, Trevor Hastie, Iain Johnstone and Robert Tibshirani (2004) \"Least Angle Regression,\" Annals of Statistics (with discussion), 407-499.\\n(https://web.stanford.edu/~hastie/Papers/LARS/LeastAngle_2002.pdf)\\n', 'feature_names': ['age', 'sex', 'bmi', 'bp', 's1', 's2', 's3', 's4', 's5', 's6'], 'data_filename': 'diabetes_data_raw.csv.gz', 'target_filename': 'diabetes_target.csv.gz', 'data_module': 'sklearn.datasets.data'}\n"
          ]
        }
      ]
    },
    {
      "cell_type": "code",
      "source": [
        "print(data_set.DESCR)"
      ],
      "metadata": {
        "colab": {
          "base_uri": "https://localhost:8080/"
        },
        "id": "O56MRef20-us",
        "outputId": "e05b4b58-cffd-4856-8a4f-15a4f6a6b8fb"
      },
      "execution_count": 4,
      "outputs": [
        {
          "output_type": "stream",
          "name": "stdout",
          "text": [
            ".. _diabetes_dataset:\n",
            "\n",
            "Diabetes dataset\n",
            "----------------\n",
            "\n",
            "Ten baseline variables, age, sex, body mass index, average blood\n",
            "pressure, and six blood serum measurements were obtained for each of n =\n",
            "442 diabetes patients, as well as the response of interest, a\n",
            "quantitative measure of disease progression one year after baseline.\n",
            "\n",
            "**Data Set Characteristics:**\n",
            "\n",
            "  :Number of Instances: 442\n",
            "\n",
            "  :Number of Attributes: First 10 columns are numeric predictive values\n",
            "\n",
            "  :Target: Column 11 is a quantitative measure of disease progression one year after baseline\n",
            "\n",
            "  :Attribute Information:\n",
            "      - age     age in years\n",
            "      - sex\n",
            "      - bmi     body mass index\n",
            "      - bp      average blood pressure\n",
            "      - s1      tc, total serum cholesterol\n",
            "      - s2      ldl, low-density lipoproteins\n",
            "      - s3      hdl, high-density lipoproteins\n",
            "      - s4      tch, total cholesterol / HDL\n",
            "      - s5      ltg, possibly log of serum triglycerides level\n",
            "      - s6      glu, blood sugar level\n",
            "\n",
            "Note: Each of these 10 feature variables have been mean centered and scaled by the standard deviation times the square root of `n_samples` (i.e. the sum of squares of each column totals 1).\n",
            "\n",
            "Source URL:\n",
            "https://www4.stat.ncsu.edu/~boos/var.select/diabetes.html\n",
            "\n",
            "For more information see:\n",
            "Bradley Efron, Trevor Hastie, Iain Johnstone and Robert Tibshirani (2004) \"Least Angle Regression,\" Annals of Statistics (with discussion), 407-499.\n",
            "(https://web.stanford.edu/~hastie/Papers/LARS/LeastAngle_2002.pdf)\n",
            "\n"
          ]
        }
      ]
    },
    {
      "cell_type": "markdown",
      "source": [
        "##Simple Linear Regrassior : X_1 to Y"
      ],
      "metadata": {
        "id": "gHycw7qV1Rfd"
      }
    },
    {
      "cell_type": "code",
      "source": [
        "x = data_set['data'][...,0:1] #... picks all the rows and 0 picks 1st col and maintaining the shape by 0:1\n",
        "print(x.shape)\n",
        "y = data_set['target']\n",
        "print(y.shape)"
      ],
      "metadata": {
        "colab": {
          "base_uri": "https://localhost:8080/"
        },
        "id": "kk5HbBz31Y23",
        "outputId": "377644a7-f855-40a1-9583-90414eb010f1"
      },
      "execution_count": 8,
      "outputs": [
        {
          "output_type": "stream",
          "name": "stdout",
          "text": [
            "(442, 1)\n",
            "(442,)\n"
          ]
        }
      ]
    },
    {
      "cell_type": "code",
      "source": [
        "plt.scatter(x[...,0],y)\n",
        "plt.xlabel('Age')\n",
        "plt.ylabel('Diabetes Progression')"
      ],
      "metadata": {
        "colab": {
          "base_uri": "https://localhost:8080/",
          "height": 467
        },
        "id": "D8nPhTiL2S6r",
        "outputId": "a873c773-7c84-4ee9-e681-6326ba0205fa"
      },
      "execution_count": 11,
      "outputs": [
        {
          "output_type": "execute_result",
          "data": {
            "text/plain": [
              "Text(0, 0.5, 'Diabetes Progression')"
            ]
          },
          "metadata": {},
          "execution_count": 11
        },
        {
          "output_type": "display_data",
          "data": {
            "text/plain": [
              "<Figure size 640x480 with 1 Axes>"
            ],
            "image/png": "[encoded data removed]"
          },
          "metadata": {}
        }
      ]
    },
    {
      "cell_type": "code",
      "source": [
        "x_train, x_test, y_train, y_test = train_test_split(x, y, test_size=0.20)"
      ],
      "metadata": {
        "id": "wxtaQfGA4JF3"
      },
      "execution_count": 13,
      "outputs": []
    },
    {
      "cell_type": "code",
      "source": [
        "print(x_train.shape,y_test.shape)"
      ],
      "metadata": {
        "colab": {
          "base_uri": "https://localhost:8080/"
        },
        "id": "vEnL0hrY4XS4",
        "outputId": "efebec92-4fdc-4622-f05b-76a817dc6b95"
      },
      "execution_count": 14,
      "outputs": [
        {
          "output_type": "stream",
          "name": "stdout",
          "text": [
            "(353, 1) (89,)\n"
          ]
        }
      ]
    },
    {
      "cell_type": "code",
      "source": [
        "model = LinearRegression()"
      ],
      "metadata": {
        "id": "LqfmQvsj4tTy"
      },
      "execution_count": 15,
      "outputs": []
    },
    {
      "cell_type": "code",
      "source": [
        "model.fit(x_train,y_train)"
      ],
      "metadata": {
        "colab": {
          "base_uri": "https://localhost:8080/",
          "height": 75
        },
        "id": "_WcE_YGY4w__",
        "outputId": "4a76d537-55e8-4a78-bcad-7cb6f2deff2d"
      },
      "execution_count": 16,
      "outputs": [
        {
          "output_type": "execute_result",
          "data": {
            "text/plain": [
              "LinearRegression()"
            ],
            "text/html": [
              "<style>#sk-container-id-1 {color: black;background-color: white;}#sk-container-id-1 pre{padding: 0;}#sk-container-id-1 div.sk-toggleable {background-color: white;}#sk-container-id-1 label.sk-toggleable__label {cursor: pointer;display: block;width: 100%;margin-bottom: 0;padding: 0.3em;box-sizing: border-box;text-align: center;}#sk-container-id-1 label.sk-toggleable__label-arrow:before {content: \"▸\";float: left;margin-right: 0.25em;color: #696969;}#sk-container-id-1 label.sk-toggleable__label-arrow:hover:before {color: black;}#sk-container-id-1 div.sk-estimator:hover label.sk-toggleable__label-arrow:before {color: black;}#sk-container-id-1 div.sk-toggleable__content {max-height: 0;max-width: 0;overflow: hidden;text-align: left;background-color: #f0f8ff;}#sk-container-id-1 div.sk-toggleable__content pre {margin: 0.2em;color: black;border-radius: 0.25em;background-color: #f0f8ff;}#sk-container-id-1 input.sk-toggleable__control:checked~div.sk-toggleable__content {max-height: 200px;max-width: 100%;overflow: auto;}#sk-container-id-1 input.sk-toggleable__control:checked~label.sk-toggleable__label-arrow:before {content: \"▾\";}#sk-container-id-1 div.sk-estimator input.sk-toggleable__control:checked~label.sk-toggleable__label {background-color: #d4ebff;}#sk-container-id-1 div.sk-label input.sk-toggleable__control:checked~label.sk-toggleable__label {background-color: #d4ebff;}#sk-container-id-1 input.sk-hidden--visually {border: 0;clip: rect(1px 1px 1px 1px);clip: rect(1px, 1px, 1px, 1px);height: 1px;margin: -1px;overflow: hidden;padding: 0;position: absolute;width: 1px;}#sk-container-id-1 div.sk-estimator {font-family: monospace;background-color: #f0f8ff;border: 1px dotted black;border-radius: 0.25em;box-sizing: border-box;margin-bottom: 0.5em;}#sk-container-id-1 div.sk-estimator:hover {background-color: #d4ebff;}#sk-container-id-1 div.sk-parallel-item::after {content: \"\";width: 100%;border-bottom: 1px solid gray;flex-grow: 1;}#sk-container-id-1 div.sk-label:hover label.sk-toggleable__label {background-color: #d4ebff;}#sk-container-id-1 div.sk-serial::before {content: \"\";position: absolute;border-left: 1px solid gray;box-sizing: border-box;top: 0;bottom: 0;left: 50%;z-index: 0;}#sk-container-id-1 div.sk-serial {display: flex;flex-direction: column;align-items: center;background-color: white;padding-right: 0.2em;padding-left: 0.2em;position: relative;}#sk-container-id-1 div.sk-item {position: relative;z-index: 1;}#sk-container-id-1 div.sk-parallel {display: flex;align-items: stretch;justify-content: center;background-color: white;position: relative;}#sk-container-id-1 div.sk-item::before, #sk-container-id-1 div.sk-parallel-item::before {content: \"\";position: absolute;border-left: 1px solid gray;box-sizing: border-box;top: 0;bottom: 0;left: 50%;z-index: -1;}#sk-container-id-1 div.sk-parallel-item {display: flex;flex-direction: column;z-index: 1;position: relative;background-color: white;}#sk-container-id-1 div.sk-parallel-item:first-child::after {align-self: flex-end;width: 50%;}#sk-container-id-1 div.sk-parallel-item:last-child::after {align-self: flex-start;width: 50%;}#sk-container-id-1 div.sk-parallel-item:only-child::after {width: 0;}#sk-container-id-1 div.sk-dashed-wrapped {border: 1px dashed gray;margin: 0 0.4em 0.5em 0.4em;box-sizing: border-box;padding-bottom: 0.4em;background-color: white;}#sk-container-id-1 div.sk-label label {font-family: monospace;font-weight: bold;display: inline-block;line-height: 1.2em;}#sk-container-id-1 div.sk-label-container {text-align: center;}#sk-container-id-1 div.sk-container {/* jupyter's `normalize.less` sets `[hidden] { display: none; }` but bootstrap.min.css set `[hidden] { display: none !important; }` so we also need the `!important` here to be able to override the default hidden behavior on the sphinx rendered scikit-learn.org. See: https://github.com/scikit-learn/scikit-learn/issues/21755 */display: inline-block !important;position: relative;}#sk-container-id-1 div.sk-text-repr-fallback {display: none;}</style><div id=\"sk-container-id-1\" class=\"sk-top-container\"><div class=\"sk-text-repr-fallback\"><pre>LinearRegression()</pre><b>In a Jupyter environment, please rerun this cell to show the HTML representation or trust the notebook. <br />On GitHub, the HTML representation is unable to render, please try loading this page with nbviewer.org.</b></div><div class=\"sk-container\" hidden><div class=\"sk-item\"><div class=\"sk-estimator sk-toggleable\"><input class=\"sk-toggleable__control sk-hidden--visually\" id=\"sk-estimator-id-1\" type=\"checkbox\" checked><label for=\"sk-estimator-id-1\" class=\"sk-toggleable__label sk-toggleable__label-arrow\">LinearRegression</label><div class=\"sk-toggleable__content\"><pre>LinearRegression()</pre></div></div></div></div></div>"
            ]
          },
          "metadata": {},
          "execution_count": 16
        }
      ]
    },
    {
      "cell_type": "code",
      "source": [
        "y_pred = model.predict(x_test)"
      ],
      "metadata": {
        "id": "rq6fbs9B5HNo"
      },
      "execution_count": 18,
      "outputs": []
    },
    {
      "cell_type": "code",
      "source": [
        "plt.scatter(x[...,0],y)\n",
        "plt.plot(x_test,y_pred,color = 'red')\n",
        "plt.xlabel('Age')\n",
        "plt.ylabel('Diabetes Progression')"
      ],
      "metadata": {
        "colab": {
          "base_uri": "https://localhost:8080/",
          "height": 467
        },
        "id": "XbJyPVqE5Qm5",
        "outputId": "203c2cd9-3fc3-4fe8-f59f-1890fdd7b490"
      },
      "execution_count": 19,
      "outputs": [
        {
          "output_type": "execute_result",
          "data": {
            "text/plain": [
              "Text(0, 0.5, 'Diabetes Progression')"
            ]
          },
          "metadata": {},
          "execution_count": 19
        },
        {
          "output_type": "display_data",
          "data": {
            "text/plain": [
              "<Figure size 640x480 with 1 Axes>"
            ],
            "image/png": "[encoded data removed]"
          },
          "metadata": {}
        }
      ]
    },
    {
      "cell_type": "code",
      "source": [
        "# y = wx + b\n",
        "w = model.coef_\n",
        "b = model.intercept_\n",
        "print(w,b)"
      ],
      "metadata": {
        "colab": {
          "base_uri": "https://localhost:8080/"
        },
        "id": "uMPMtOPF5nmu",
        "outputId": "3329ac11-2248-44cd-87af-26762738302d"
      },
      "execution_count": 20,
      "outputs": [
        {
          "output_type": "stream",
          "name": "stdout",
          "text": [
            "[331.79159385] 152.60330515031515\n"
          ]
        }
      ]
    },
    {
      "cell_type": "code",
      "source": [
        "print(y_pred[0],w*x_test[0] + b)"
      ],
      "metadata": {
        "colab": {
          "base_uri": "https://localhost:8080/"
        },
        "id": "YUlcV3Gt6Jk7",
        "outputId": "91def9de-1c1d-49e9-fcc2-b2aa42d14dac"
      },
      "execution_count": 21,
      "outputs": [
        {
          "output_type": "stream",
          "name": "stdout",
          "text": [
            "121.84772482744951 [121.84772483]\n"
          ]
        }
      ]
    },
    {
      "cell_type": "code",
      "source": [
        "#Evaluation\n",
        "r2_err = r2_score(y_test,y_pred)\n",
        "mse_err = mean_squared_error(y_test,y_pred)\n",
        "\n",
        "print(r2_err,mse_err) # r2_err should be towards 1, so that your variance from the pred line would be minimal and mse_err should be low which shows better model"
      ],
      "metadata": {
        "colab": {
          "base_uri": "https://localhost:8080/"
        },
        "id": "o3TfBLyH7O8G",
        "outputId": "d2bf4235-2ebf-4889-e6de-44aebe8af6f0"
      },
      "execution_count": 23,
      "outputs": [
        {
          "output_type": "stream",
          "name": "stdout",
          "text": [
            "0.010252859676922466 5393.465665299723\n"
          ]
        }
      ]
    },
    {
      "cell_type": "markdown",
      "source": [
        "##Multi-linear Regrassion"
      ],
      "metadata": {
        "id": "V_oAMUfG8V0h"
      }
    },
    {
      "cell_type": "code",
      "source": [
        "x = data_set['data'] #... picks all the rows and 0 picks 1st col and maintaining the shape by 0:1\n",
        "print(x.shape)\n",
        "y = data_set['target']\n",
        "print(y.shape)"
      ],
      "metadata": {
        "colab": {
          "base_uri": "https://localhost:8080/"
        },
        "id": "9KPNOLXa8Wh-",
        "outputId": "8b9a6364-55fa-486b-8e15-47e22b2ffb01"
      },
      "execution_count": 24,
      "outputs": [
        {
          "output_type": "stream",
          "name": "stdout",
          "text": [
            "(442, 10)\n",
            "(442,)\n"
          ]
        }
      ]
    },
    {
      "cell_type": "code",
      "source": [
        "x_train, x_test, y_train, y_test = train_test_split(x, y, test_size=0.20)"
      ],
      "metadata": {
        "id": "DET4Z0Ah8i98"
      },
      "execution_count": 25,
      "outputs": []
    },
    {
      "cell_type": "code",
      "source": [
        "model = LinearRegression()\n",
        "model.fit(x_train,y_train)\n",
        "y_pred = model.predict(x_test)"
      ],
      "metadata": {
        "id": "WXPqZGBh8rCO"
      },
      "execution_count": 26,
      "outputs": []
    },
    {
      "cell_type": "code",
      "source": [
        "# y = wx + b\n",
        "w = model.coef_\n",
        "b = model.intercept_\n",
        "print(w,b)"
      ],
      "metadata": {
        "colab": {
          "base_uri": "https://localhost:8080/"
        },
        "id": "vcOl81Tg89Kl",
        "outputId": "67080ae1-7b29-4a14-8d70-7cdd0d414626"
      },
      "execution_count": 27,
      "outputs": [
        {
          "output_type": "stream",
          "name": "stdout",
          "text": [
            "[   11.97712295  -262.92460429   549.06434585   335.94997345\n",
            " -1224.6918191    743.93776487   274.32923095   309.99073398\n",
            "   857.32869992    41.83414526] 150.46967196529664\n"
          ]
        }
      ]
    },
    {
      "cell_type": "code",
      "source": [
        "#Evaluation\n",
        "r2_err = r2_score(y_test,y_pred)\n",
        "mse_err = mean_squared_error(y_test,y_pred)\n",
        "\n",
        "print(r2_err,mse_err) # r2_err should be towards 1, so that your variance from the pred line would be minimal and mse_err should be low which shows better model"
      ],
      "metadata": {
        "colab": {
          "base_uri": "https://localhost:8080/"
        },
        "id": "_AfV0FpB9VDR",
        "outputId": "9c983f03-3fc2-4f80-b565-5178a7beaf1f"
      },
      "execution_count": 28,
      "outputs": [
        {
          "output_type": "stream",
          "name": "stdout",
          "text": [
            "0.45168663804906195 2988.9976965077803\n"
          ]
        }
      ]
    },
    {
      "cell_type": "markdown",
      "source": [
        "##Assignments\n",
        "Dataset : https://scikit-learn.org/stable/modules/generated/sklearn.datasets.fetch_california_housing.html"
      ],
      "metadata": {
        "id": "pb-OWFV_9zgU"
      }
    },
    {
      "cell_type": "code",
      "source": [
        "from sklearn.datasets import fetch_california_housing"
      ],
      "metadata": {
        "id": "ZQ61977F-GDy"
      },
      "execution_count": 30,
      "outputs": []
    }
  ],
  "metadata": {
    "colab": {
      "provenance": []
    },
    "kernelspec": {
      "display_name": "Python 3",
      "name": "python3"
    },
    "language_info": {
      "name": "python"
    }
  },
  "nbformat": 4,
  "nbformat_minor": 0
}