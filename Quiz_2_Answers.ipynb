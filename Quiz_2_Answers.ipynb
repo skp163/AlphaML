{
  "cells": [
    {
      "cell_type": "code",
      "execution_count": null,
      "metadata": {
        "id": "XKYdbT8Mwe7e"
      },
      "outputs": [],
      "source": [
        "\"\"\"\n",
        "Write 3 functions, one for each operation:\n",
        "Input: List of strings\n",
        "Assume: The search elements exist atleast once in the list\n",
        "\"\"\""
      ]
    },
    {
      "cell_type": "code",
      "execution_count": 1,
      "metadata": {
        "id": "UQoc37eixzUs"
      },
      "outputs": [
        {
          "name": "stdout",
          "output_type": "stream",
          "text": [
            "4\n"
          ]
        }
      ],
      "source": [
        "\"\"\"\n",
        "Given the input list and element to be found, return the index of the first occurance\n",
        "Input List = [\"hey\", \"how\", \"is\", \"hey\", \"you\", \"how\", \"are\", \"you\", \"hey\"]\n",
        "Search Element = \"you\"\n",
        "Output = 4\n",
        "\"\"\"\n",
        "\"\"\"def search(input_list, search_elem):\n",
        "  pass\"\"\"\n",
        "\n",
        "Input_List = [\"hey\", \"how\", \"is\", \"hey\", \"you\", \"how\", \"are\", \"you\", \"hey\"]\n",
        "\n",
        "for i in range(len(Input_List)):\n",
        "  if (Input_List[i] == 'you'):\n",
        "    index = i\n",
        "    break\n",
        "print(index)\n"
      ]
    },
    {
      "cell_type": "code",
      "execution_count": 2,
      "metadata": {
        "id": "QjwLVStYyBHQ"
      },
      "outputs": [
        {
          "name": "stdout",
          "output_type": "stream",
          "text": [
            "3\n"
          ]
        }
      ],
      "source": [
        "\"\"\"\n",
        "Given the input list, count the number of elements equal to 'search_elem'\n",
        "Input List = [\"hey\", \"how\", \"is\", \"hey\", \"you\", \"how\", \"are\", \"you\", \"hey\"]\n",
        "Search Element = \"hey\"\n",
        "Output = 3\n",
        "\"\"\"\n",
        "'''def count(input_list, search_elem):\n",
        "  pass'''\n",
        "\n",
        "Input_List = [\"hey\", \"how\", \"is\", \"hey\", \"you\", \"how\", \"are\", \"you\", \"hey\"]\n",
        "cou = 0\n",
        "for i in range(len(Input_List)):\n",
        "  if(Input_List[i] == 'hey'):\n",
        "    cou = cou + 1\n",
        "print(cou)"
      ]
    },
    {
      "cell_type": "code",
      "execution_count": 3,
      "metadata": {
        "id": "6DanXkDvyTuY"
      },
      "outputs": [
        {
          "name": "stdout",
          "output_type": "stream",
          "text": [
            "{'hey': [0, 3, 8], 'you': [4, 7]}\n"
          ]
        }
      ],
      "source": [
        "\"\"\"\n",
        "Given the input list, and another list of search terms, return a dict with a list of their corresponding indices\n",
        "Input List = [\"hey\", \"how\", \"is\", \"hey\", \"you\", \"how\", \"are\", \"you\", \"hey\"]\n",
        "Search List = [\"hey\", \"you\"]\n",
        "Output Dict = {\n",
        "  \"hey\" : [0, 3, 8],\n",
        "  \"you\" : [4, 7]\n",
        "}\n",
        "\n",
        "Concept: Nested for loops -> One for loop inside another\n",
        "\"\"\"\n",
        "'''\n",
        "def search_location(input_list, search_list):\n",
        "  pass'''\n",
        "\n",
        "Input_List = [\"hey\", \"how\", \"is\", \"hey\", \"you\", \"how\", \"are\", \"you\", \"hey\"]\n",
        "hey_index = []\n",
        "you_index = []\n",
        "Output_Dict = {}\n",
        "for i in range(len(Input_List)):\n",
        "  if (Input_List[i] == 'hey'):\n",
        "    hey_index.append(i)\n",
        "for i in range(len(Input_List)):\n",
        "  if(Input_List[i] == 'you'):\n",
        "    you_index.append(i)\n",
        "\n",
        "Output_Dict['hey'] = hey_index\n",
        "Output_Dict['you'] = you_index\n",
        "\n",
        "print(Output_Dict)\n"
      ]
    }
  ],
  "metadata": {
    "colab": {
      "provenance": []
    },
    "kernelspec": {
      "display_name": "Python 3",
      "name": "python3"
    },
    "language_info": {
      "codemirror_mode": {
        "name": "ipython",
        "version": 3
      },
      "file_extension": ".py",
      "mimetype": "text/x-python",
      "name": "python",
      "nbconvert_exporter": "python",
      "pygments_lexer": "ipython3",
      "version": "3.11.4"
    }
  },
  "nbformat": 4,
  "nbformat_minor": 0
}
